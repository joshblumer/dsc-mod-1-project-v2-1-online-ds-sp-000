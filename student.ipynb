{
 "cells": [
  {
   "cell_type": "markdown",
   "metadata": {},
   "source": [
    "# Final Project Submission\n",
    "\n",
    "Please fill out:\n",
    "* Student name: Josh Blumer\n",
    "* Student pace: Self Paced \n",
    "* Scheduled project review date/time: Mon, Sep. 28, 2020, 11:00AM\n",
    "* Instructor name: Jeff Herman\n",
    "* Blog post URL:\n"
   ]
  },
  {
   "cell_type": "markdown",
   "metadata": {},
   "source": [
    "# Exploratory Data Analysis"
   ]
  },
  {
   "cell_type": "markdown",
   "metadata": {},
   "source": [
    "## Import Python Libraries"
   ]
  },
  {
   "cell_type": "code",
   "execution_count": 1,
   "metadata": {},
   "outputs": [],
   "source": [
    "# Import all necessary python libraries to preview, manipulate, and visualize data\n",
    "\n",
    "import pandas as pd\n",
    "import numpy as np\n",
    "import matplotlib.pyplot as plt\n",
    "%matplotlib inline\n",
    "import seaborn as sns"
   ]
  },
  {
   "cell_type": "markdown",
   "metadata": {},
   "source": [
    "# Previewing Available Data Sets"
   ]
  },
  {
   "cell_type": "markdown",
   "metadata": {},
   "source": [
    "## Box Office Mojo (Studio)"
   ]
  },
  {
   "cell_type": "code",
   "execution_count": 2,
   "metadata": {},
   "outputs": [
    {
     "data": {
      "text/html": [
       "<div>\n",
       "<style scoped>\n",
       "    .dataframe tbody tr th:only-of-type {\n",
       "        vertical-align: middle;\n",
       "    }\n",
       "\n",
       "    .dataframe tbody tr th {\n",
       "        vertical-align: top;\n",
       "    }\n",
       "\n",
       "    .dataframe thead th {\n",
       "        text-align: right;\n",
       "    }\n",
       "</style>\n",
       "<table border=\"1\" class=\"dataframe\">\n",
       "  <thead>\n",
       "    <tr style=\"text-align: right;\">\n",
       "      <th></th>\n",
       "      <th>title</th>\n",
       "      <th>studio</th>\n",
       "      <th>domestic_gross</th>\n",
       "      <th>foreign_gross</th>\n",
       "      <th>year</th>\n",
       "    </tr>\n",
       "  </thead>\n",
       "  <tbody>\n",
       "    <tr>\n",
       "      <th>0</th>\n",
       "      <td>Toy Story 3</td>\n",
       "      <td>BV</td>\n",
       "      <td>415000000.0</td>\n",
       "      <td>652000000</td>\n",
       "      <td>2010</td>\n",
       "    </tr>\n",
       "    <tr>\n",
       "      <th>1</th>\n",
       "      <td>Alice in Wonderland (2010)</td>\n",
       "      <td>BV</td>\n",
       "      <td>334200000.0</td>\n",
       "      <td>691300000</td>\n",
       "      <td>2010</td>\n",
       "    </tr>\n",
       "    <tr>\n",
       "      <th>2</th>\n",
       "      <td>Harry Potter and the Deathly Hallows Part 1</td>\n",
       "      <td>WB</td>\n",
       "      <td>296000000.0</td>\n",
       "      <td>664300000</td>\n",
       "      <td>2010</td>\n",
       "    </tr>\n",
       "    <tr>\n",
       "      <th>3</th>\n",
       "      <td>Inception</td>\n",
       "      <td>WB</td>\n",
       "      <td>292600000.0</td>\n",
       "      <td>535700000</td>\n",
       "      <td>2010</td>\n",
       "    </tr>\n",
       "    <tr>\n",
       "      <th>4</th>\n",
       "      <td>Shrek Forever After</td>\n",
       "      <td>P/DW</td>\n",
       "      <td>238700000.0</td>\n",
       "      <td>513900000</td>\n",
       "      <td>2010</td>\n",
       "    </tr>\n",
       "  </tbody>\n",
       "</table>\n",
       "</div>"
      ],
      "text/plain": [
       "                                         title studio  domestic_gross  \\\n",
       "0                                  Toy Story 3     BV     415000000.0   \n",
       "1                   Alice in Wonderland (2010)     BV     334200000.0   \n",
       "2  Harry Potter and the Deathly Hallows Part 1     WB     296000000.0   \n",
       "3                                    Inception     WB     292600000.0   \n",
       "4                          Shrek Forever After   P/DW     238700000.0   \n",
       "\n",
       "  foreign_gross  year  \n",
       "0     652000000  2010  \n",
       "1     691300000  2010  \n",
       "2     664300000  2010  \n",
       "3     535700000  2010  \n",
       "4     513900000  2010  "
      ]
     },
     "execution_count": 2,
     "metadata": {},
     "output_type": "execute_result"
    }
   ],
   "source": [
    "# Import and preview file\n",
    "\n",
    "bom_movie_gross = 'zippedData/bom.movie_gross.csv.gz'\n",
    "df1 = pd.read_csv(bom_movie_gross)\n",
    "df1.head()"
   ]
  },
  {
   "cell_type": "code",
   "execution_count": 3,
   "metadata": {},
   "outputs": [
    {
     "name": "stdout",
     "output_type": "stream",
     "text": [
      "<class 'pandas.core.frame.DataFrame'>\n",
      "RangeIndex: 3387 entries, 0 to 3386\n",
      "Data columns (total 5 columns):\n",
      "title             3387 non-null object\n",
      "studio            3382 non-null object\n",
      "domestic_gross    3359 non-null float64\n",
      "foreign_gross     2037 non-null object\n",
      "year              3387 non-null int64\n",
      "dtypes: float64(1), int64(1), object(3)\n",
      "memory usage: 132.4+ KB\n"
     ]
    }
   ],
   "source": [
    "# Explore dataframe metadata\n",
    "\n",
    "df1.info()"
   ]
  },
  {
   "cell_type": "markdown",
   "metadata": {},
   "source": [
    "### Question 1: What studio grosses the most?"
   ]
  },
  {
   "cell_type": "code",
   "execution_count": 4,
   "metadata": {},
   "outputs": [
    {
     "data": {
      "text/plain": [
       "257"
      ]
     },
     "execution_count": 4,
     "metadata": {},
     "output_type": "execute_result"
    }
   ],
   "source": [
    "# Inspect studio number of unique values\n",
    "\n",
    "df1['studio'].nunique()"
   ]
  },
  {
   "cell_type": "code",
   "execution_count": 5,
   "metadata": {},
   "outputs": [
    {
     "data": {
      "text/plain": [
       "28"
      ]
     },
     "execution_count": 5,
     "metadata": {},
     "output_type": "execute_result"
    }
   ],
   "source": [
    "# Inspect domestic gross column for null attributes\n",
    "\n",
    "df1['domestic_gross'].isnull().sum()"
   ]
  },
  {
   "cell_type": "code",
   "execution_count": 6,
   "metadata": {},
   "outputs": [],
   "source": [
    "# Omit null attributes by only iterating over file containing rows with no null attributes\n",
    "\n",
    "revised_dg = df1[df1['domestic_gross'].notna()]"
   ]
  },
  {
   "cell_type": "code",
   "execution_count": 7,
   "metadata": {},
   "outputs": [
    {
     "name": "stdout",
     "output_type": "stream",
     "text": [
      "<class 'pandas.core.frame.DataFrame'>\n",
      "Int64Index: 3359 entries, 0 to 3386\n",
      "Data columns (total 5 columns):\n",
      "title             3359 non-null object\n",
      "studio            3356 non-null object\n",
      "domestic_gross    3359 non-null float64\n",
      "foreign_gross     2009 non-null object\n",
      "year              3359 non-null int64\n",
      "dtypes: float64(1), int64(1), object(3)\n",
      "memory usage: 157.5+ KB\n"
     ]
    }
   ],
   "source": [
    "# Evaluate changes to metadata\n",
    "\n",
    "revised_dg.info()"
   ]
  },
  {
   "cell_type": "code",
   "execution_count": 8,
   "metadata": {},
   "outputs": [
    {
     "data": {
      "text/html": [
       "<div>\n",
       "<style scoped>\n",
       "    .dataframe tbody tr th:only-of-type {\n",
       "        vertical-align: middle;\n",
       "    }\n",
       "\n",
       "    .dataframe tbody tr th {\n",
       "        vertical-align: top;\n",
       "    }\n",
       "\n",
       "    .dataframe thead th {\n",
       "        text-align: right;\n",
       "    }\n",
       "</style>\n",
       "<table border=\"1\" class=\"dataframe\">\n",
       "  <thead>\n",
       "    <tr style=\"text-align: right;\">\n",
       "      <th></th>\n",
       "      <th>title</th>\n",
       "      <th>studio</th>\n",
       "      <th>domestic_gross</th>\n",
       "      <th>foreign_gross</th>\n",
       "      <th>year</th>\n",
       "    </tr>\n",
       "  </thead>\n",
       "  <tbody>\n",
       "    <tr>\n",
       "      <th>1872</th>\n",
       "      <td>Star Wars: The Force Awakens</td>\n",
       "      <td>BV</td>\n",
       "      <td>936700000.0</td>\n",
       "      <td>1,131.6</td>\n",
       "      <td>2015</td>\n",
       "    </tr>\n",
       "    <tr>\n",
       "      <th>3080</th>\n",
       "      <td>Black Panther</td>\n",
       "      <td>BV</td>\n",
       "      <td>700100000.0</td>\n",
       "      <td>646900000</td>\n",
       "      <td>2018</td>\n",
       "    </tr>\n",
       "    <tr>\n",
       "      <th>3079</th>\n",
       "      <td>Avengers: Infinity War</td>\n",
       "      <td>BV</td>\n",
       "      <td>678800000.0</td>\n",
       "      <td>1,369.5</td>\n",
       "      <td>2018</td>\n",
       "    </tr>\n",
       "    <tr>\n",
       "      <th>1873</th>\n",
       "      <td>Jurassic World</td>\n",
       "      <td>Uni.</td>\n",
       "      <td>652300000.0</td>\n",
       "      <td>1,019.4</td>\n",
       "      <td>2015</td>\n",
       "    </tr>\n",
       "    <tr>\n",
       "      <th>727</th>\n",
       "      <td>Marvel's The Avengers</td>\n",
       "      <td>BV</td>\n",
       "      <td>623400000.0</td>\n",
       "      <td>895500000</td>\n",
       "      <td>2012</td>\n",
       "    </tr>\n",
       "  </tbody>\n",
       "</table>\n",
       "</div>"
      ],
      "text/plain": [
       "                             title studio  domestic_gross foreign_gross  year\n",
       "1872  Star Wars: The Force Awakens     BV     936700000.0       1,131.6  2015\n",
       "3080                 Black Panther     BV     700100000.0     646900000  2018\n",
       "3079        Avengers: Infinity War     BV     678800000.0       1,369.5  2018\n",
       "1873                Jurassic World   Uni.     652300000.0       1,019.4  2015\n",
       "727          Marvel's The Avengers     BV     623400000.0     895500000  2012"
      ]
     },
     "execution_count": 8,
     "metadata": {},
     "output_type": "execute_result"
    }
   ],
   "source": [
    "# Take closer look at number of studios attached to top performing films\n",
    "\n",
    "top_200 = revised_dg.nlargest(200, ['domestic_gross'])\n",
    "top_200.head()"
   ]
  },
  {
   "cell_type": "markdown",
   "metadata": {},
   "source": [
    "### Plot Results"
   ]
  },
  {
   "cell_type": "code",
   "execution_count": 9,
   "metadata": {},
   "outputs": [
    {
     "data": {
      "text/plain": [
       "Text(0, 0.5, 'Film Gross Mean')"
      ]
     },
     "execution_count": 9,
     "metadata": {},
     "output_type": "execute_result"
    },
    {
     "data": {
      "image/png": "[encoded data removed]",
      "text/plain": [
       "<Figure size 1080x360 with 2 Axes>"
      ]
     },
     "metadata": {
      "needs_background": "light"
     },
     "output_type": "display_data"
    }
   ],
   "source": [
    "# Plot top 200 grossing films domestic gross sum and mean by studio\n",
    "\n",
    "fig = plt.figure(figsize = (15,5))\n",
    "\n",
    "ax1 = plt.subplot(1,2,1)\n",
    "top_200[['studio', 'domestic_gross']].groupby('studio').sum().reset_index().sort_values('domestic_gross', ascending = False).plot(ax = ax1, kind = 'bar', x = 'studio', y = 'domestic_gross')\n",
    "plt.title('Studios of Top 200 Films Sum', fontsize = 20)\n",
    "plt.xlabel('Studio', fontsize = 15)\n",
    "plt.ylabel('Film Gross Sum', fontsize = 15)\n",
    "\n",
    "ax2 = plt.subplot(1,2,2)\n",
    "top_200[['studio', 'domestic_gross']].groupby('studio').mean().reset_index().sort_values('domestic_gross', ascending = False).plot(ax = ax2, kind = 'bar', x = 'studio', y = 'domestic_gross')\n",
    "plt.title('Studios of Top 200 Films Mean', fontsize = 20)\n",
    "plt.xlabel('Studio', fontsize = 15)\n",
    "plt.ylabel('Film Gross Mean', fontsize = 15)\n"
   ]
  },
  {
   "cell_type": "markdown",
   "metadata": {},
   "source": [
    "Buena Vista, a subsidiary of Disney, total grosses more than double the next entry, Warner Brothers, but only grosses slightly more than the next few entries per film. Finding the top performing studios is a valuable insight for choosing who to collaborate with, where to look when acquiring talent, and whose films to further analyze. "
   ]
  },
  {
   "cell_type": "markdown",
   "metadata": {},
   "source": [
    "## Movie Budgets & Release Date"
   ]
  },
  {
   "cell_type": "code",
   "execution_count": 10,
   "metadata": {},
   "outputs": [
    {
     "data": {
      "text/html": [
       "<div>\n",
       "<style scoped>\n",
       "    .dataframe tbody tr th:only-of-type {\n",
       "        vertical-align: middle;\n",
       "    }\n",
       "\n",
       "    .dataframe tbody tr th {\n",
       "        vertical-align: top;\n",
       "    }\n",
       "\n",
       "    .dataframe thead th {\n",
       "        text-align: right;\n",
       "    }\n",
       "</style>\n",
       "<table border=\"1\" class=\"dataframe\">\n",
       "  <thead>\n",
       "    <tr style=\"text-align: right;\">\n",
       "      <th></th>\n",
       "      <th>id</th>\n",
       "      <th>release_date</th>\n",
       "      <th>movie</th>\n",
       "      <th>production_budget</th>\n",
       "      <th>domestic_gross</th>\n",
       "      <th>worldwide_gross</th>\n",
       "    </tr>\n",
       "  </thead>\n",
       "  <tbody>\n",
       "    <tr>\n",
       "      <th>0</th>\n",
       "      <td>1</td>\n",
       "      <td>Dec 18, 2009</td>\n",
       "      <td>Avatar</td>\n",
       "      <td>$425,000,000</td>\n",
       "      <td>$760,507,625</td>\n",
       "      <td>$2,776,345,279</td>\n",
       "    </tr>\n",
       "    <tr>\n",
       "      <th>1</th>\n",
       "      <td>2</td>\n",
       "      <td>May 20, 2011</td>\n",
       "      <td>Pirates of the Caribbean: On Stranger Tides</td>\n",
       "      <td>$410,600,000</td>\n",
       "      <td>$241,063,875</td>\n",
       "      <td>$1,045,663,875</td>\n",
       "    </tr>\n",
       "    <tr>\n",
       "      <th>2</th>\n",
       "      <td>3</td>\n",
       "      <td>Jun 7, 2019</td>\n",
       "      <td>Dark Phoenix</td>\n",
       "      <td>$350,000,000</td>\n",
       "      <td>$42,762,350</td>\n",
       "      <td>$149,762,350</td>\n",
       "    </tr>\n",
       "    <tr>\n",
       "      <th>3</th>\n",
       "      <td>4</td>\n",
       "      <td>May 1, 2015</td>\n",
       "      <td>Avengers: Age of Ultron</td>\n",
       "      <td>$330,600,000</td>\n",
       "      <td>$459,005,868</td>\n",
       "      <td>$1,403,013,963</td>\n",
       "    </tr>\n",
       "    <tr>\n",
       "      <th>4</th>\n",
       "      <td>5</td>\n",
       "      <td>Dec 15, 2017</td>\n",
       "      <td>Star Wars Ep. VIII: The Last Jedi</td>\n",
       "      <td>$317,000,000</td>\n",
       "      <td>$620,181,382</td>\n",
       "      <td>$1,316,721,747</td>\n",
       "    </tr>\n",
       "  </tbody>\n",
       "</table>\n",
       "</div>"
      ],
      "text/plain": [
       "   id  release_date                                        movie  \\\n",
       "0   1  Dec 18, 2009                                       Avatar   \n",
       "1   2  May 20, 2011  Pirates of the Caribbean: On Stranger Tides   \n",
       "2   3   Jun 7, 2019                                 Dark Phoenix   \n",
       "3   4   May 1, 2015                      Avengers: Age of Ultron   \n",
       "4   5  Dec 15, 2017            Star Wars Ep. VIII: The Last Jedi   \n",
       "\n",
       "  production_budget domestic_gross worldwide_gross  \n",
       "0      $425,000,000   $760,507,625  $2,776,345,279  \n",
       "1      $410,600,000   $241,063,875  $1,045,663,875  \n",
       "2      $350,000,000    $42,762,350    $149,762,350  \n",
       "3      $330,600,000   $459,005,868  $1,403,013,963  \n",
       "4      $317,000,000   $620,181,382  $1,316,721,747  "
      ]
     },
     "execution_count": 10,
     "metadata": {},
     "output_type": "execute_result"
    }
   ],
   "source": [
    "# Import file and preview \n",
    "\n",
    "movie_budgets = 'zippedData/tn.movie_budgets.csv.gz'\n",
    "df2 = pd.read_csv(movie_budgets)\n",
    "df2.head()"
   ]
  },
  {
   "cell_type": "code",
   "execution_count": 11,
   "metadata": {},
   "outputs": [
    {
     "name": "stdout",
     "output_type": "stream",
     "text": [
      "<class 'pandas.core.frame.DataFrame'>\n",
      "RangeIndex: 5782 entries, 0 to 5781\n",
      "Data columns (total 6 columns):\n",
      "id                   5782 non-null int64\n",
      "release_date         5782 non-null object\n",
      "movie                5782 non-null object\n",
      "production_budget    5782 non-null object\n",
      "domestic_gross       5782 non-null object\n",
      "worldwide_gross      5782 non-null object\n",
      "dtypes: int64(1), object(5)\n",
      "memory usage: 271.1+ KB\n"
     ]
    }
   ],
   "source": [
    "# Preview meta data\n",
    "\n",
    "df2.info()"
   ]
  },
  {
   "cell_type": "markdown",
   "metadata": {},
   "source": [
    "### Question 2: Is there a correlation between a film's budget and gross/profit?"
   ]
  },
  {
   "cell_type": "code",
   "execution_count": 12,
   "metadata": {},
   "outputs": [
    {
     "data": {
      "text/plain": [
       "id                    int64\n",
       "release_date         object\n",
       "movie                object\n",
       "production_budget    object\n",
       "domestic_gross       object\n",
       "worldwide_gross      object\n",
       "dtype: object"
      ]
     },
     "execution_count": 12,
     "metadata": {},
     "output_type": "execute_result"
    }
   ],
   "source": [
    "# Inspect data types\n",
    "\n",
    "df2.dtypes"
   ]
  },
  {
   "cell_type": "code",
   "execution_count": 13,
   "metadata": {},
   "outputs": [],
   "source": [
    "# Write a function to convert currency entries from objects to floats, which is necessary to operate on those column entries as numbers\n",
    "\n",
    "def convert_currency(val):\n",
    "    new_val = val.replace(',', '').replace('$', '')\n",
    "    return float(new_val)"
   ]
  },
  {
   "cell_type": "code",
   "execution_count": 14,
   "metadata": {},
   "outputs": [
    {
     "data": {
      "text/plain": [
       "id                     int64\n",
       "release_date          object\n",
       "movie                 object\n",
       "production_budget    float64\n",
       "domestic_gross       float64\n",
       "worldwide_gross      float64\n",
       "dtype: object"
      ]
     },
     "execution_count": 14,
     "metadata": {},
     "output_type": "execute_result"
    }
   ],
   "source": [
    "# Pass currency columns through function\n",
    "\n",
    "df2['production_budget'] = df2['production_budget'].apply(convert_currency)\n",
    "\n",
    "df2['domestic_gross'] = df2['domestic_gross'].apply(convert_currency)\n",
    "\n",
    "df2['worldwide_gross'] = df2['worldwide_gross'].apply(convert_currency)\n",
    "\n",
    "# Check data types to verify change\n",
    "\n",
    "df2.dtypes\n"
   ]
  },
  {
   "cell_type": "code",
   "execution_count": 15,
   "metadata": {},
   "outputs": [
    {
     "name": "stdout",
     "output_type": "stream",
     "text": [
      "<class 'pandas.core.frame.DataFrame'>\n",
      "RangeIndex: 5782 entries, 0 to 5781\n",
      "Data columns (total 6 columns):\n",
      "id                   5782 non-null int64\n",
      "release_date         5782 non-null object\n",
      "movie                5782 non-null object\n",
      "production_budget    5782 non-null float64\n",
      "domestic_gross       5782 non-null float64\n",
      "worldwide_gross      5782 non-null float64\n",
      "dtypes: float64(3), int64(1), object(2)\n",
      "memory usage: 271.1+ KB\n"
     ]
    }
   ],
   "source": [
    "# Preview file change\n",
    "\n",
    "df2.info()"
   ]
  },
  {
   "cell_type": "code",
   "execution_count": 16,
   "metadata": {},
   "outputs": [
    {
     "data": {
      "text/html": [
       "<div>\n",
       "<style scoped>\n",
       "    .dataframe tbody tr th:only-of-type {\n",
       "        vertical-align: middle;\n",
       "    }\n",
       "\n",
       "    .dataframe tbody tr th {\n",
       "        vertical-align: top;\n",
       "    }\n",
       "\n",
       "    .dataframe thead th {\n",
       "        text-align: right;\n",
       "    }\n",
       "</style>\n",
       "<table border=\"1\" class=\"dataframe\">\n",
       "  <thead>\n",
       "    <tr style=\"text-align: right;\">\n",
       "      <th></th>\n",
       "      <th>id</th>\n",
       "      <th>release_date</th>\n",
       "      <th>movie</th>\n",
       "      <th>production_budget</th>\n",
       "      <th>domestic_gross</th>\n",
       "      <th>worldwide_gross</th>\n",
       "      <th>foreign_gross</th>\n",
       "    </tr>\n",
       "  </thead>\n",
       "  <tbody>\n",
       "    <tr>\n",
       "      <th>0</th>\n",
       "      <td>1</td>\n",
       "      <td>Dec 18, 2009</td>\n",
       "      <td>Avatar</td>\n",
       "      <td>425000000.0</td>\n",
       "      <td>760507625.0</td>\n",
       "      <td>2.776345e+09</td>\n",
       "      <td>2.015838e+09</td>\n",
       "    </tr>\n",
       "    <tr>\n",
       "      <th>1</th>\n",
       "      <td>2</td>\n",
       "      <td>May 20, 2011</td>\n",
       "      <td>Pirates of the Caribbean: On Stranger Tides</td>\n",
       "      <td>410600000.0</td>\n",
       "      <td>241063875.0</td>\n",
       "      <td>1.045664e+09</td>\n",
       "      <td>8.046000e+08</td>\n",
       "    </tr>\n",
       "    <tr>\n",
       "      <th>2</th>\n",
       "      <td>3</td>\n",
       "      <td>Jun 7, 2019</td>\n",
       "      <td>Dark Phoenix</td>\n",
       "      <td>350000000.0</td>\n",
       "      <td>42762350.0</td>\n",
       "      <td>1.497624e+08</td>\n",
       "      <td>1.070000e+08</td>\n",
       "    </tr>\n",
       "    <tr>\n",
       "      <th>3</th>\n",
       "      <td>4</td>\n",
       "      <td>May 1, 2015</td>\n",
       "      <td>Avengers: Age of Ultron</td>\n",
       "      <td>330600000.0</td>\n",
       "      <td>459005868.0</td>\n",
       "      <td>1.403014e+09</td>\n",
       "      <td>9.440081e+08</td>\n",
       "    </tr>\n",
       "    <tr>\n",
       "      <th>4</th>\n",
       "      <td>5</td>\n",
       "      <td>Dec 15, 2017</td>\n",
       "      <td>Star Wars Ep. VIII: The Last Jedi</td>\n",
       "      <td>317000000.0</td>\n",
       "      <td>620181382.0</td>\n",
       "      <td>1.316722e+09</td>\n",
       "      <td>6.965404e+08</td>\n",
       "    </tr>\n",
       "  </tbody>\n",
       "</table>\n",
       "</div>"
      ],
      "text/plain": [
       "   id  release_date                                        movie  \\\n",
       "0   1  Dec 18, 2009                                       Avatar   \n",
       "1   2  May 20, 2011  Pirates of the Caribbean: On Stranger Tides   \n",
       "2   3   Jun 7, 2019                                 Dark Phoenix   \n",
       "3   4   May 1, 2015                      Avengers: Age of Ultron   \n",
       "4   5  Dec 15, 2017            Star Wars Ep. VIII: The Last Jedi   \n",
       "\n",
       "   production_budget  domestic_gross  worldwide_gross  foreign_gross  \n",
       "0        425000000.0     760507625.0     2.776345e+09   2.015838e+09  \n",
       "1        410600000.0     241063875.0     1.045664e+09   8.046000e+08  \n",
       "2        350000000.0      42762350.0     1.497624e+08   1.070000e+08  \n",
       "3        330600000.0     459005868.0     1.403014e+09   9.440081e+08  \n",
       "4        317000000.0     620181382.0     1.316722e+09   6.965404e+08  "
      ]
     },
     "execution_count": 16,
     "metadata": {},
     "output_type": "execute_result"
    }
   ],
   "source": [
    "# Add foreign_gross column by subtracting domestic_gross from worldwide_gross\n",
    "\n",
    "df2['foreign_gross'] = (df2['worldwide_gross'] - df2['domestic_gross'])\n",
    "\n",
    "# Preview file change\n",
    "\n",
    "df2.head()"
   ]
  },
  {
   "cell_type": "code",
   "execution_count": 17,
   "metadata": {},
   "outputs": [
    {
     "data": {
      "text/html": [
       "<div>\n",
       "<style scoped>\n",
       "    .dataframe tbody tr th:only-of-type {\n",
       "        vertical-align: middle;\n",
       "    }\n",
       "\n",
       "    .dataframe tbody tr th {\n",
       "        vertical-align: top;\n",
       "    }\n",
       "\n",
       "    .dataframe thead th {\n",
       "        text-align: right;\n",
       "    }\n",
       "</style>\n",
       "<table border=\"1\" class=\"dataframe\">\n",
       "  <thead>\n",
       "    <tr style=\"text-align: right;\">\n",
       "      <th></th>\n",
       "      <th>id</th>\n",
       "      <th>release_date</th>\n",
       "      <th>movie</th>\n",
       "      <th>production_budget</th>\n",
       "      <th>domestic_gross</th>\n",
       "      <th>worldwide_gross</th>\n",
       "      <th>foreign_gross</th>\n",
       "      <th>profit_difference</th>\n",
       "    </tr>\n",
       "  </thead>\n",
       "  <tbody>\n",
       "    <tr>\n",
       "      <th>0</th>\n",
       "      <td>1</td>\n",
       "      <td>Dec 18, 2009</td>\n",
       "      <td>Avatar</td>\n",
       "      <td>425000000.0</td>\n",
       "      <td>760507625.0</td>\n",
       "      <td>2.776345e+09</td>\n",
       "      <td>2.015838e+09</td>\n",
       "      <td>2.351345e+09</td>\n",
       "    </tr>\n",
       "    <tr>\n",
       "      <th>1</th>\n",
       "      <td>2</td>\n",
       "      <td>May 20, 2011</td>\n",
       "      <td>Pirates of the Caribbean: On Stranger Tides</td>\n",
       "      <td>410600000.0</td>\n",
       "      <td>241063875.0</td>\n",
       "      <td>1.045664e+09</td>\n",
       "      <td>8.046000e+08</td>\n",
       "      <td>6.350639e+08</td>\n",
       "    </tr>\n",
       "    <tr>\n",
       "      <th>2</th>\n",
       "      <td>3</td>\n",
       "      <td>Jun 7, 2019</td>\n",
       "      <td>Dark Phoenix</td>\n",
       "      <td>350000000.0</td>\n",
       "      <td>42762350.0</td>\n",
       "      <td>1.497624e+08</td>\n",
       "      <td>1.070000e+08</td>\n",
       "      <td>-2.002376e+08</td>\n",
       "    </tr>\n",
       "    <tr>\n",
       "      <th>3</th>\n",
       "      <td>4</td>\n",
       "      <td>May 1, 2015</td>\n",
       "      <td>Avengers: Age of Ultron</td>\n",
       "      <td>330600000.0</td>\n",
       "      <td>459005868.0</td>\n",
       "      <td>1.403014e+09</td>\n",
       "      <td>9.440081e+08</td>\n",
       "      <td>1.072414e+09</td>\n",
       "    </tr>\n",
       "    <tr>\n",
       "      <th>4</th>\n",
       "      <td>5</td>\n",
       "      <td>Dec 15, 2017</td>\n",
       "      <td>Star Wars Ep. VIII: The Last Jedi</td>\n",
       "      <td>317000000.0</td>\n",
       "      <td>620181382.0</td>\n",
       "      <td>1.316722e+09</td>\n",
       "      <td>6.965404e+08</td>\n",
       "      <td>9.997217e+08</td>\n",
       "    </tr>\n",
       "  </tbody>\n",
       "</table>\n",
       "</div>"
      ],
      "text/plain": [
       "   id  release_date                                        movie  \\\n",
       "0   1  Dec 18, 2009                                       Avatar   \n",
       "1   2  May 20, 2011  Pirates of the Caribbean: On Stranger Tides   \n",
       "2   3   Jun 7, 2019                                 Dark Phoenix   \n",
       "3   4   May 1, 2015                      Avengers: Age of Ultron   \n",
       "4   5  Dec 15, 2017            Star Wars Ep. VIII: The Last Jedi   \n",
       "\n",
       "   production_budget  domestic_gross  worldwide_gross  foreign_gross  \\\n",
       "0        425000000.0     760507625.0     2.776345e+09   2.015838e+09   \n",
       "1        410600000.0     241063875.0     1.045664e+09   8.046000e+08   \n",
       "2        350000000.0      42762350.0     1.497624e+08   1.070000e+08   \n",
       "3        330600000.0     459005868.0     1.403014e+09   9.440081e+08   \n",
       "4        317000000.0     620181382.0     1.316722e+09   6.965404e+08   \n",
       "\n",
       "   profit_difference  \n",
       "0       2.351345e+09  \n",
       "1       6.350639e+08  \n",
       "2      -2.002376e+08  \n",
       "3       1.072414e+09  \n",
       "4       9.997217e+08  "
      ]
     },
     "execution_count": 17,
     "metadata": {},
     "output_type": "execute_result"
    }
   ],
   "source": [
    "# Calculate profit difference by subtracting production budget from worldwide gross\n",
    "\n",
    "df2['profit_difference'] = (df2['worldwide_gross'] - df2['production_budget'])\n",
    "\n",
    "# Preview new column\n",
    "\n",
    "df2.head()"
   ]
  },
  {
   "cell_type": "code",
   "execution_count": 18,
   "metadata": {
    "scrolled": true
   },
   "outputs": [
    {
     "data": {
      "text/html": [
       "<div>\n",
       "<style scoped>\n",
       "    .dataframe tbody tr th:only-of-type {\n",
       "        vertical-align: middle;\n",
       "    }\n",
       "\n",
       "    .dataframe tbody tr th {\n",
       "        vertical-align: top;\n",
       "    }\n",
       "\n",
       "    .dataframe thead th {\n",
       "        text-align: right;\n",
       "    }\n",
       "</style>\n",
       "<table border=\"1\" class=\"dataframe\">\n",
       "  <thead>\n",
       "    <tr style=\"text-align: right;\">\n",
       "      <th></th>\n",
       "      <th>id</th>\n",
       "      <th>release_date</th>\n",
       "      <th>movie</th>\n",
       "      <th>production_budget</th>\n",
       "      <th>domestic_gross</th>\n",
       "      <th>worldwide_gross</th>\n",
       "      <th>foreign_gross</th>\n",
       "      <th>profit_difference</th>\n",
       "      <th>profit_quotient</th>\n",
       "    </tr>\n",
       "  </thead>\n",
       "  <tbody>\n",
       "    <tr>\n",
       "      <th>0</th>\n",
       "      <td>1</td>\n",
       "      <td>Dec 18, 2009</td>\n",
       "      <td>Avatar</td>\n",
       "      <td>425000000.0</td>\n",
       "      <td>760507625.0</td>\n",
       "      <td>2.776345e+09</td>\n",
       "      <td>2.015838e+09</td>\n",
       "      <td>2.351345e+09</td>\n",
       "      <td>6.532577</td>\n",
       "    </tr>\n",
       "    <tr>\n",
       "      <th>1</th>\n",
       "      <td>2</td>\n",
       "      <td>May 20, 2011</td>\n",
       "      <td>Pirates of the Caribbean: On Stranger Tides</td>\n",
       "      <td>410600000.0</td>\n",
       "      <td>241063875.0</td>\n",
       "      <td>1.045664e+09</td>\n",
       "      <td>8.046000e+08</td>\n",
       "      <td>6.350639e+08</td>\n",
       "      <td>2.546673</td>\n",
       "    </tr>\n",
       "    <tr>\n",
       "      <th>2</th>\n",
       "      <td>3</td>\n",
       "      <td>Jun 7, 2019</td>\n",
       "      <td>Dark Phoenix</td>\n",
       "      <td>350000000.0</td>\n",
       "      <td>42762350.0</td>\n",
       "      <td>1.497624e+08</td>\n",
       "      <td>1.070000e+08</td>\n",
       "      <td>-2.002376e+08</td>\n",
       "      <td>0.427892</td>\n",
       "    </tr>\n",
       "    <tr>\n",
       "      <th>3</th>\n",
       "      <td>4</td>\n",
       "      <td>May 1, 2015</td>\n",
       "      <td>Avengers: Age of Ultron</td>\n",
       "      <td>330600000.0</td>\n",
       "      <td>459005868.0</td>\n",
       "      <td>1.403014e+09</td>\n",
       "      <td>9.440081e+08</td>\n",
       "      <td>1.072414e+09</td>\n",
       "      <td>4.243841</td>\n",
       "    </tr>\n",
       "    <tr>\n",
       "      <th>4</th>\n",
       "      <td>5</td>\n",
       "      <td>Dec 15, 2017</td>\n",
       "      <td>Star Wars Ep. VIII: The Last Jedi</td>\n",
       "      <td>317000000.0</td>\n",
       "      <td>620181382.0</td>\n",
       "      <td>1.316722e+09</td>\n",
       "      <td>6.965404e+08</td>\n",
       "      <td>9.997217e+08</td>\n",
       "      <td>4.153696</td>\n",
       "    </tr>\n",
       "  </tbody>\n",
       "</table>\n",
       "</div>"
      ],
      "text/plain": [
       "   id  release_date                                        movie  \\\n",
       "0   1  Dec 18, 2009                                       Avatar   \n",
       "1   2  May 20, 2011  Pirates of the Caribbean: On Stranger Tides   \n",
       "2   3   Jun 7, 2019                                 Dark Phoenix   \n",
       "3   4   May 1, 2015                      Avengers: Age of Ultron   \n",
       "4   5  Dec 15, 2017            Star Wars Ep. VIII: The Last Jedi   \n",
       "\n",
       "   production_budget  domestic_gross  worldwide_gross  foreign_gross  \\\n",
       "0        425000000.0     760507625.0     2.776345e+09   2.015838e+09   \n",
       "1        410600000.0     241063875.0     1.045664e+09   8.046000e+08   \n",
       "2        350000000.0      42762350.0     1.497624e+08   1.070000e+08   \n",
       "3        330600000.0     459005868.0     1.403014e+09   9.440081e+08   \n",
       "4        317000000.0     620181382.0     1.316722e+09   6.965404e+08   \n",
       "\n",
       "   profit_difference  profit_quotient  \n",
       "0       2.351345e+09         6.532577  \n",
       "1       6.350639e+08         2.546673  \n",
       "2      -2.002376e+08         0.427892  \n",
       "3       1.072414e+09         4.243841  \n",
       "4       9.997217e+08         4.153696  "
      ]
     },
     "execution_count": 18,
     "metadata": {},
     "output_type": "execute_result"
    }
   ],
   "source": [
    "# Calculate profit quotient by dividing production budget from worldwide gross\n",
    "\n",
    "df2['profit_quotient'] = (df2['worldwide_gross'] / df2['production_budget'])\n",
    "\n",
    "# Preview new column\n",
    "\n",
    "df2.head()"
   ]
  },
  {
   "cell_type": "code",
   "execution_count": 19,
   "metadata": {},
   "outputs": [],
   "source": [
    "# Remove outlier that was skewing profit quotient representation\n",
    "\n",
    "df2 = df2[df2.movie != 'Deep Throat']"
   ]
  },
  {
   "cell_type": "code",
   "execution_count": 20,
   "metadata": {},
   "outputs": [
    {
     "name": "stdout",
     "output_type": "stream",
     "text": [
      "<class 'pandas.core.frame.DataFrame'>\n",
      "Int64Index: 5781 entries, 0 to 5781\n",
      "Data columns (total 9 columns):\n",
      "id                   5781 non-null int64\n",
      "release_date         5781 non-null object\n",
      "movie                5781 non-null object\n",
      "production_budget    5781 non-null float64\n",
      "domestic_gross       5781 non-null float64\n",
      "worldwide_gross      5781 non-null float64\n",
      "foreign_gross        5781 non-null float64\n",
      "profit_difference    5781 non-null float64\n",
      "profit_quotient      5781 non-null float64\n",
      "dtypes: float64(6), int64(1), object(2)\n",
      "memory usage: 451.6+ KB\n"
     ]
    }
   ],
   "source": [
    "# Verify outlier removal\n",
    "\n",
    "df2.info()"
   ]
  },
  {
   "cell_type": "markdown",
   "metadata": {},
   "source": [
    "### Plotting Budget Vs Gross & Profits"
   ]
  },
  {
   "cell_type": "code",
   "execution_count": 55,
   "metadata": {},
   "outputs": [
    {
     "data": {
      "text/plain": [
       "Text(0, 0.5, 'Profit')"
      ]
     },
     "execution_count": 55,
     "metadata": {},
     "output_type": "execute_result"
    },
    {
     "data": {
      "image/png": "[encoded data removed]",
      "text/plain": [
       "<Figure size 1080x360 with 2 Axes>"
      ]
     },
     "metadata": {},
     "output_type": "display_data"
    }
   ],
   "source": [
    "# Plot entire data set budget against gross and profit\n",
    "\n",
    "fig = plt.figure(figsize = (15,5))\n",
    "\n",
    "ax1 = plt.subplot(1,2,1)\n",
    "sns.set_style('darkgrid')\n",
    "sns.regplot(ax = ax1, x = 'production_budget', y = 'worldwide_gross', data = df2, scatter_kws = {'color': 'b'}, line_kws = {'color':'red'})\n",
    "plt.title('Whole Set: Budget vs Gross', fontsize = 20)\n",
    "plt.xlabel('Production Budget', fontsize = 15)\n",
    "plt.ylabel('Worldwide Gross', fontsize = 15)\n",
    "\n",
    "ax2 = plt.subplot(1,2,2)\n",
    "sns.set_style('darkgrid')\n",
    "sns.regplot(ax = ax2, x = 'production_budget', y = 'profit_difference', data = df2, scatter_kws = {'color': 'b'}, line_kws = {'color':'red'})\n",
    "plt.title('Whole Set: Budget vs Profit', fontsize = 20)\n",
    "plt.xlabel('Production Budget', fontsize = 15)\n",
    "plt.ylabel('Profit', fontsize = 15)\n"
   ]
  },
  {
   "cell_type": "code",
   "execution_count": 22,
   "metadata": {},
   "outputs": [
    {
     "name": "stdout",
     "output_type": "stream",
     "text": [
      "0.7483126980177028\n",
      "0.6087693634139751\n"
     ]
    }
   ],
   "source": [
    "# Calculate correlation between production budget and gross for whole data set\n",
    "\n",
    "print(df2['production_budget'].corr(df2['worldwide_gross']))\n",
    "\n",
    "# Calculate correlation between production budget and profit for whole data set\n",
    "\n",
    "print(df2['production_budget'].corr(df2['profit_difference']))"
   ]
  },
  {
   "cell_type": "code",
   "execution_count": 23,
   "metadata": {},
   "outputs": [
    {
     "data": {
      "text/html": [
       "<div>\n",
       "<style scoped>\n",
       "    .dataframe tbody tr th:only-of-type {\n",
       "        vertical-align: middle;\n",
       "    }\n",
       "\n",
       "    .dataframe tbody tr th {\n",
       "        vertical-align: top;\n",
       "    }\n",
       "\n",
       "    .dataframe thead th {\n",
       "        text-align: right;\n",
       "    }\n",
       "</style>\n",
       "<table border=\"1\" class=\"dataframe\">\n",
       "  <thead>\n",
       "    <tr style=\"text-align: right;\">\n",
       "      <th></th>\n",
       "      <th>id</th>\n",
       "      <th>release_date</th>\n",
       "      <th>movie</th>\n",
       "      <th>production_budget</th>\n",
       "      <th>domestic_gross</th>\n",
       "      <th>worldwide_gross</th>\n",
       "      <th>foreign_gross</th>\n",
       "      <th>profit_difference</th>\n",
       "      <th>profit_quotient</th>\n",
       "    </tr>\n",
       "  </thead>\n",
       "  <tbody>\n",
       "    <tr>\n",
       "      <th>0</th>\n",
       "      <td>1</td>\n",
       "      <td>Dec 18, 2009</td>\n",
       "      <td>Avatar</td>\n",
       "      <td>425000000.0</td>\n",
       "      <td>760507625.0</td>\n",
       "      <td>2.776345e+09</td>\n",
       "      <td>2.015838e+09</td>\n",
       "      <td>2.351345e+09</td>\n",
       "      <td>6.532577</td>\n",
       "    </tr>\n",
       "    <tr>\n",
       "      <th>42</th>\n",
       "      <td>43</td>\n",
       "      <td>Dec 19, 1997</td>\n",
       "      <td>Titanic</td>\n",
       "      <td>200000000.0</td>\n",
       "      <td>659363944.0</td>\n",
       "      <td>2.208208e+09</td>\n",
       "      <td>1.548844e+09</td>\n",
       "      <td>2.008208e+09</td>\n",
       "      <td>11.041042</td>\n",
       "    </tr>\n",
       "    <tr>\n",
       "      <th>6</th>\n",
       "      <td>7</td>\n",
       "      <td>Apr 27, 2018</td>\n",
       "      <td>Avengers: Infinity War</td>\n",
       "      <td>300000000.0</td>\n",
       "      <td>678815482.0</td>\n",
       "      <td>2.048134e+09</td>\n",
       "      <td>1.369319e+09</td>\n",
       "      <td>1.748134e+09</td>\n",
       "      <td>6.827114</td>\n",
       "    </tr>\n",
       "    <tr>\n",
       "      <th>5</th>\n",
       "      <td>6</td>\n",
       "      <td>Dec 18, 2015</td>\n",
       "      <td>Star Wars Ep. VII: The Force Awakens</td>\n",
       "      <td>306000000.0</td>\n",
       "      <td>936662225.0</td>\n",
       "      <td>2.053311e+09</td>\n",
       "      <td>1.116649e+09</td>\n",
       "      <td>1.747311e+09</td>\n",
       "      <td>6.710167</td>\n",
       "    </tr>\n",
       "    <tr>\n",
       "      <th>33</th>\n",
       "      <td>34</td>\n",
       "      <td>Jun 12, 2015</td>\n",
       "      <td>Jurassic World</td>\n",
       "      <td>215000000.0</td>\n",
       "      <td>652270625.0</td>\n",
       "      <td>1.648855e+09</td>\n",
       "      <td>9.965842e+08</td>\n",
       "      <td>1.433855e+09</td>\n",
       "      <td>7.669092</td>\n",
       "    </tr>\n",
       "  </tbody>\n",
       "</table>\n",
       "</div>"
      ],
      "text/plain": [
       "    id  release_date                                 movie  production_budget  \\\n",
       "0    1  Dec 18, 2009                                Avatar        425000000.0   \n",
       "42  43  Dec 19, 1997                               Titanic        200000000.0   \n",
       "6    7  Apr 27, 2018                Avengers: Infinity War        300000000.0   \n",
       "5    6  Dec 18, 2015  Star Wars Ep. VII: The Force Awakens        306000000.0   \n",
       "33  34  Jun 12, 2015                        Jurassic World        215000000.0   \n",
       "\n",
       "    domestic_gross  worldwide_gross  foreign_gross  profit_difference  \\\n",
       "0      760507625.0     2.776345e+09   2.015838e+09       2.351345e+09   \n",
       "42     659363944.0     2.208208e+09   1.548844e+09       2.008208e+09   \n",
       "6      678815482.0     2.048134e+09   1.369319e+09       1.748134e+09   \n",
       "5      936662225.0     2.053311e+09   1.116649e+09       1.747311e+09   \n",
       "33     652270625.0     1.648855e+09   9.965842e+08       1.433855e+09   \n",
       "\n",
       "    profit_quotient  \n",
       "0          6.532577  \n",
       "42        11.041042  \n",
       "6          6.827114  \n",
       "5          6.710167  \n",
       "33         7.669092  "
      ]
     },
     "execution_count": 23,
     "metadata": {},
     "output_type": "execute_result"
    }
   ],
   "source": [
    "# Make list of Top 500 films by profit\n",
    "\n",
    "top_500_p = df2.nlargest(500, 'profit_difference')\n",
    "top_500_p.head()"
   ]
  },
  {
   "cell_type": "code",
   "execution_count": 24,
   "metadata": {},
   "outputs": [
    {
     "data": {
      "text/plain": [
       "Text(0, 0.5, 'Profit')"
      ]
     },
     "execution_count": 24,
     "metadata": {},
     "output_type": "execute_result"
    },
    {
     "data": {
      "image/png": "[encoded data removed]",
      "text/plain": [
       "<Figure size 1080x360 with 2 Axes>"
      ]
     },
     "metadata": {},
     "output_type": "display_data"
    }
   ],
   "source": [
    "# Plot Top 500 films \"by profit\" by budget against gross and profit\n",
    "\n",
    "fig = plt.figure(figsize = (15,5))\n",
    "\n",
    "ax1 = plt.subplot(1,2,1)\n",
    "sns.set_style('darkgrid')\n",
    "sns.regplot(ax = ax1, x = 'production_budget', y = 'worldwide_gross', data = top_500_p, scatter_kws = {'color': 'b'}, line_kws = {'color':'red'})\n",
    "plt.title('Top 500 Profit: Budget vs Gross', fontsize = 20)\n",
    "plt.xlabel('Production Budget', fontsize = 15)\n",
    "plt.ylabel('Worldwide Gross', fontsize = 15)\n",
    "\n",
    "ax2 = plt.subplot(1,2,2)\n",
    "sns.set_style('darkgrid')\n",
    "sns.regplot(ax = ax2, x = 'production_budget', y = 'profit_difference', data = top_500_p, scatter_kws = {'color': 'b'}, line_kws = {'color':'red'})\n",
    "plt.title('Top 500 Profit: Budget vs Profit', fontsize = 20)\n",
    "plt.xlabel('Production Budget', fontsize = 15)\n",
    "plt.ylabel('Profit', fontsize = 15)"
   ]
  },
  {
   "cell_type": "code",
   "execution_count": 25,
   "metadata": {},
   "outputs": [
    {
     "name": "stdout",
     "output_type": "stream",
     "text": [
      "0.6689016291443306\n",
      "0.5075676838032853\n"
     ]
    }
   ],
   "source": [
    "# Calculate correlation between budget and gross for top 500 most profitable films\n",
    "\n",
    "print(top_500_p['production_budget'].corr(top_500_p['worldwide_gross']))\n",
    "\n",
    "# Calculate correlation between budget and profit for top 500 most profitable films\n",
    "\n",
    "print(top_500_p['production_budget'].corr(top_500_p['profit_difference']))"
   ]
  },
  {
   "cell_type": "code",
   "execution_count": 26,
   "metadata": {},
   "outputs": [
    {
     "data": {
      "text/html": [
       "<div>\n",
       "<style scoped>\n",
       "    .dataframe tbody tr th:only-of-type {\n",
       "        vertical-align: middle;\n",
       "    }\n",
       "\n",
       "    .dataframe tbody tr th {\n",
       "        vertical-align: top;\n",
       "    }\n",
       "\n",
       "    .dataframe thead th {\n",
       "        text-align: right;\n",
       "    }\n",
       "</style>\n",
       "<table border=\"1\" class=\"dataframe\">\n",
       "  <thead>\n",
       "    <tr style=\"text-align: right;\">\n",
       "      <th></th>\n",
       "      <th>id</th>\n",
       "      <th>release_date</th>\n",
       "      <th>movie</th>\n",
       "      <th>production_budget</th>\n",
       "      <th>domestic_gross</th>\n",
       "      <th>worldwide_gross</th>\n",
       "      <th>foreign_gross</th>\n",
       "      <th>profit_difference</th>\n",
       "      <th>profit_quotient</th>\n",
       "    </tr>\n",
       "  </thead>\n",
       "  <tbody>\n",
       "    <tr>\n",
       "      <th>5613</th>\n",
       "      <td>14</td>\n",
       "      <td>Mar 21, 1980</td>\n",
       "      <td>Mad Max</td>\n",
       "      <td>200000.0</td>\n",
       "      <td>8750000.0</td>\n",
       "      <td>99750000.0</td>\n",
       "      <td>91000000.0</td>\n",
       "      <td>99550000.0</td>\n",
       "      <td>498.750000</td>\n",
       "    </tr>\n",
       "    <tr>\n",
       "      <th>5492</th>\n",
       "      <td>93</td>\n",
       "      <td>Sep 25, 2009</td>\n",
       "      <td>Paranormal Activity</td>\n",
       "      <td>450000.0</td>\n",
       "      <td>107918810.0</td>\n",
       "      <td>194183034.0</td>\n",
       "      <td>86264224.0</td>\n",
       "      <td>193733034.0</td>\n",
       "      <td>431.517853</td>\n",
       "    </tr>\n",
       "    <tr>\n",
       "      <th>5679</th>\n",
       "      <td>80</td>\n",
       "      <td>Jul 10, 2015</td>\n",
       "      <td>The Gallows</td>\n",
       "      <td>100000.0</td>\n",
       "      <td>22764410.0</td>\n",
       "      <td>41656474.0</td>\n",
       "      <td>18892064.0</td>\n",
       "      <td>41556474.0</td>\n",
       "      <td>416.564740</td>\n",
       "    </tr>\n",
       "    <tr>\n",
       "      <th>5406</th>\n",
       "      <td>7</td>\n",
       "      <td>Jul 14, 1999</td>\n",
       "      <td>The Blair Witch Project</td>\n",
       "      <td>600000.0</td>\n",
       "      <td>140539099.0</td>\n",
       "      <td>248300000.0</td>\n",
       "      <td>107760901.0</td>\n",
       "      <td>247700000.0</td>\n",
       "      <td>413.833333</td>\n",
       "    </tr>\n",
       "    <tr>\n",
       "      <th>5709</th>\n",
       "      <td>10</td>\n",
       "      <td>May 7, 2004</td>\n",
       "      <td>Super Size Me</td>\n",
       "      <td>65000.0</td>\n",
       "      <td>11529368.0</td>\n",
       "      <td>22233808.0</td>\n",
       "      <td>10704440.0</td>\n",
       "      <td>22168808.0</td>\n",
       "      <td>342.058585</td>\n",
       "    </tr>\n",
       "  </tbody>\n",
       "</table>\n",
       "</div>"
      ],
      "text/plain": [
       "      id  release_date                    movie  production_budget  \\\n",
       "5613  14  Mar 21, 1980                  Mad Max           200000.0   \n",
       "5492  93  Sep 25, 2009      Paranormal Activity           450000.0   \n",
       "5679  80  Jul 10, 2015              The Gallows           100000.0   \n",
       "5406   7  Jul 14, 1999  The Blair Witch Project           600000.0   \n",
       "5709  10   May 7, 2004            Super Size Me            65000.0   \n",
       "\n",
       "      domestic_gross  worldwide_gross  foreign_gross  profit_difference  \\\n",
       "5613       8750000.0       99750000.0     91000000.0         99550000.0   \n",
       "5492     107918810.0      194183034.0     86264224.0        193733034.0   \n",
       "5679      22764410.0       41656474.0     18892064.0         41556474.0   \n",
       "5406     140539099.0      248300000.0    107760901.0        247700000.0   \n",
       "5709      11529368.0       22233808.0     10704440.0         22168808.0   \n",
       "\n",
       "      profit_quotient  \n",
       "5613       498.750000  \n",
       "5492       431.517853  \n",
       "5679       416.564740  \n",
       "5406       413.833333  \n",
       "5709       342.058585  "
      ]
     },
     "execution_count": 26,
     "metadata": {},
     "output_type": "execute_result"
    }
   ],
   "source": [
    "# Make list of top 500 profit quotients\n",
    "\n",
    "top_500_q = df2.nlargest(500, 'profit_quotient')\n",
    "\n",
    "# Preview list\n",
    "\n",
    "top_500_q.head()"
   ]
  },
  {
   "cell_type": "code",
   "execution_count": 27,
   "metadata": {},
   "outputs": [
    {
     "data": {
      "text/html": [
       "<div>\n",
       "<style scoped>\n",
       "    .dataframe tbody tr th:only-of-type {\n",
       "        vertical-align: middle;\n",
       "    }\n",
       "\n",
       "    .dataframe tbody tr th {\n",
       "        vertical-align: top;\n",
       "    }\n",
       "\n",
       "    .dataframe thead th {\n",
       "        text-align: right;\n",
       "    }\n",
       "</style>\n",
       "<table border=\"1\" class=\"dataframe\">\n",
       "  <thead>\n",
       "    <tr style=\"text-align: right;\">\n",
       "      <th></th>\n",
       "      <th>id</th>\n",
       "      <th>release_date</th>\n",
       "      <th>movie</th>\n",
       "      <th>production_budget</th>\n",
       "      <th>domestic_gross</th>\n",
       "      <th>worldwide_gross</th>\n",
       "      <th>foreign_gross</th>\n",
       "      <th>profit_difference</th>\n",
       "      <th>profit_quotient</th>\n",
       "    </tr>\n",
       "  </thead>\n",
       "  <tbody>\n",
       "    <tr>\n",
       "      <th>5492</th>\n",
       "      <td>93</td>\n",
       "      <td>Sep 25, 2009</td>\n",
       "      <td>Paranormal Activity</td>\n",
       "      <td>450000.0</td>\n",
       "      <td>107918810.0</td>\n",
       "      <td>194183034.0</td>\n",
       "      <td>86264224.0</td>\n",
       "      <td>193733034.0</td>\n",
       "      <td>431.517853</td>\n",
       "    </tr>\n",
       "    <tr>\n",
       "      <th>5679</th>\n",
       "      <td>80</td>\n",
       "      <td>Jul 10, 2015</td>\n",
       "      <td>The Gallows</td>\n",
       "      <td>100000.0</td>\n",
       "      <td>22764410.0</td>\n",
       "      <td>41656474.0</td>\n",
       "      <td>18892064.0</td>\n",
       "      <td>41556474.0</td>\n",
       "      <td>416.564740</td>\n",
       "    </tr>\n",
       "    <tr>\n",
       "      <th>5406</th>\n",
       "      <td>7</td>\n",
       "      <td>Jul 14, 1999</td>\n",
       "      <td>The Blair Witch Project</td>\n",
       "      <td>600000.0</td>\n",
       "      <td>140539099.0</td>\n",
       "      <td>248300000.0</td>\n",
       "      <td>107760901.0</td>\n",
       "      <td>247700000.0</td>\n",
       "      <td>413.833333</td>\n",
       "    </tr>\n",
       "    <tr>\n",
       "      <th>5709</th>\n",
       "      <td>10</td>\n",
       "      <td>May 7, 2004</td>\n",
       "      <td>Super Size Me</td>\n",
       "      <td>65000.0</td>\n",
       "      <td>11529368.0</td>\n",
       "      <td>22233808.0</td>\n",
       "      <td>10704440.0</td>\n",
       "      <td>22168808.0</td>\n",
       "      <td>342.058585</td>\n",
       "    </tr>\n",
       "    <tr>\n",
       "      <th>5346</th>\n",
       "      <td>47</td>\n",
       "      <td>Aug 13, 1942</td>\n",
       "      <td>Bambi</td>\n",
       "      <td>858000.0</td>\n",
       "      <td>102797000.0</td>\n",
       "      <td>268000000.0</td>\n",
       "      <td>165203000.0</td>\n",
       "      <td>267142000.0</td>\n",
       "      <td>312.354312</td>\n",
       "    </tr>\n",
       "  </tbody>\n",
       "</table>\n",
       "</div>"
      ],
      "text/plain": [
       "      id  release_date                    movie  production_budget  \\\n",
       "5492  93  Sep 25, 2009      Paranormal Activity           450000.0   \n",
       "5679  80  Jul 10, 2015              The Gallows           100000.0   \n",
       "5406   7  Jul 14, 1999  The Blair Witch Project           600000.0   \n",
       "5709  10   May 7, 2004            Super Size Me            65000.0   \n",
       "5346  47  Aug 13, 1942                    Bambi           858000.0   \n",
       "\n",
       "      domestic_gross  worldwide_gross  foreign_gross  profit_difference  \\\n",
       "5492     107918810.0      194183034.0     86264224.0        193733034.0   \n",
       "5679      22764410.0       41656474.0     18892064.0         41556474.0   \n",
       "5406     140539099.0      248300000.0    107760901.0        247700000.0   \n",
       "5709      11529368.0       22233808.0     10704440.0         22168808.0   \n",
       "5346     102797000.0      268000000.0    165203000.0        267142000.0   \n",
       "\n",
       "      profit_quotient  \n",
       "5492       431.517853  \n",
       "5679       416.564740  \n",
       "5406       413.833333  \n",
       "5709       342.058585  \n",
       "5346       312.354312  "
      ]
     },
     "execution_count": 27,
     "metadata": {},
     "output_type": "execute_result"
    }
   ],
   "source": [
    "# Create new list without outlier entry \n",
    "\n",
    "newdf = top_500_q.drop(top_500_q.index[0])\n",
    "newdf.head()"
   ]
  },
  {
   "cell_type": "code",
   "execution_count": 28,
   "metadata": {},
   "outputs": [
    {
     "data": {
      "text/plain": [
       "Text(0, 0.5, 'Profit')"
      ]
     },
     "execution_count": 28,
     "metadata": {},
     "output_type": "execute_result"
    },
    {
     "data": {
      "image/png": "[encoded data removed]",
      "text/plain": [
       "<Figure size 1080x360 with 2 Axes>"
      ]
     },
     "metadata": {},
     "output_type": "display_data"
    }
   ],
   "source": [
    "# Plot top 500 films \"profit quotient\" by budget against gross and profit\n",
    "\n",
    "fig = plt.figure(figsize = (15,5))\n",
    "\n",
    "ax1 = plt.subplot(1,2,1)\n",
    "sns.set_style('darkgrid')\n",
    "sns.regplot(ax = ax1, x = 'production_budget', y = 'worldwide_gross', data = newdf, scatter_kws = {'color': 'b'}, line_kws = {'color':'red'})\n",
    "plt.title('Top 500 Profit Quotient: Budget vs Gross', fontsize = 20)\n",
    "plt.xlabel('Production Budget', fontsize = 15)\n",
    "plt.ylabel('Worldwide Gross', fontsize = 15)\n",
    "\n",
    "ax2 = plt.subplot(1,2,2)\n",
    "sns.set_style('darkgrid')\n",
    "sns.regplot(ax = ax2, x = 'production_budget', y = 'profit_difference', data = newdf, scatter_kws = {'color': 'b'}, line_kws = {'color':'red'})\n",
    "plt.title('Top 500 Profit Quotient: Budget vs Profit', fontsize = 20)\n",
    "plt.xlabel('Production Budget', fontsize = 15)\n",
    "plt.ylabel('Profit', fontsize = 15)"
   ]
  },
  {
   "cell_type": "code",
   "execution_count": 29,
   "metadata": {},
   "outputs": [
    {
     "name": "stdout",
     "output_type": "stream",
     "text": [
      "0.9217193758604848\n",
      "0.9071938665660749\n"
     ]
    }
   ],
   "source": [
    "# Calculate correlation between top 500 films \"profit quotient\" budget and gross\n",
    "\n",
    "print(newdf['production_budget'].corr(newdf['worldwide_gross'])) \n",
    "\n",
    "# Calculate correlation between top 500 films \"profit quotient\" budget and profit\n",
    "\n",
    "print(newdf['production_budget'].corr(newdf['profit_difference']))"
   ]
  },
  {
   "cell_type": "markdown",
   "metadata": {},
   "source": [
    "The primary benchmark of this analysis is comparing multiple variables to the levels of correlation between a film budget and its gross, profit, and profit quotient. There is a moderately strong correlation (0.75) between the entire data sets budget and gross meaning that if a studio has the capital to invest into a particular film the gross will usually increase as the budget increases. The entire data sets profit has a slightly weaker correlation (0.61) with the budget, but it is still positive so generally as a studio invests more they will also profit more. A surprising insight extrapolated from the data is that the top 500 highest grossing films in the set had weaker correlations between budget/gross (0.67) and budget/profit (0.51). This means that even though these films were the highest grossing, they had a weaker return on investment than the set as a whole. As expected the top 500 films by profit quotient had a very strong correlation with budget/gross (0.92) and budget/profit (0.91) meaning that as these films budgets increase their gross and profit increases in nearly direct proportion. After filtering these films with a high profit quotient their variables can be further analyzed for trends that a studio can follow to maximize their ROI.  "
   ]
  },
  {
   "cell_type": "markdown",
   "metadata": {},
   "source": [
    "## Profit Mean By Month"
   ]
  },
  {
   "cell_type": "markdown",
   "metadata": {},
   "source": [
    "### Question 3: In what months do films perform the best?"
   ]
  },
  {
   "cell_type": "code",
   "execution_count": 30,
   "metadata": {},
   "outputs": [],
   "source": [
    "# Create month dictionary to view release date column by month only\n",
    "\n",
    "month_dict = {'Jan': '0', 'Feb': '1', 'Mar': '2', 'Apr': '3', \n",
    "              'May': '4', 'Jun': '5', 'Jul': '6', 'Aug': '7', \n",
    "              'Sep': '8', 'Oct': '9', 'Nov': '10', 'Dec':'11'}"
   ]
  },
  {
   "cell_type": "code",
   "execution_count": 31,
   "metadata": {},
   "outputs": [
    {
     "data": {
      "text/plain": [
       "0    11\n",
       "1     4\n",
       "2     5\n",
       "3     4\n",
       "4    11\n",
       "Name: release_month, dtype: int64"
      ]
     },
     "execution_count": 31,
     "metadata": {},
     "output_type": "execute_result"
    }
   ],
   "source": [
    "# Format release date column to read as month abbreviation only\n",
    "\n",
    "df2['release_month'] = [int(month_dict[i[0:3]]) for i in df2['release_date']]\n",
    "df2['release_month'].head()"
   ]
  },
  {
   "cell_type": "code",
   "execution_count": 32,
   "metadata": {},
   "outputs": [
    {
     "data": {
      "text/plain": [
       "5492    8\n",
       "5679    6\n",
       "5406    6\n",
       "5709    4\n",
       "5346    7\n",
       "Name: release_month, dtype: int64"
      ]
     },
     "execution_count": 32,
     "metadata": {},
     "output_type": "execute_result"
    }
   ],
   "source": [
    "# Format top 500 dates to read as month abbreviations \n",
    "\n",
    "newdf['release_month'] = [int(month_dict[i[0:3]]) for i in newdf['release_date']]\n",
    "newdf['release_month'].head()"
   ]
  },
  {
   "cell_type": "code",
   "execution_count": 33,
   "metadata": {},
   "outputs": [
    {
     "data": {
      "text/plain": [
       "Text(0, 0.5, 'Profit Quotient')"
      ]
     },
     "execution_count": 33,
     "metadata": {},
     "output_type": "execute_result"
    },
    {
     "data": {
      "image/png": "[encoded data removed]",
      "text/plain": [
       "<Figure size 864x864 with 6 Axes>"
      ]
     },
     "metadata": {},
     "output_type": "display_data"
    }
   ],
   "source": [
    "# Plot whole data set and top 500 grossing films by month\n",
    "\n",
    "fig = plt.figure(figsize = (12,12))\n",
    "plt.subplots_adjust(hspace = .5)\n",
    "\n",
    "\n",
    "ax1 = plt.subplot(3,2,1)\n",
    "monthg = df2[['release_month', 'worldwide_gross']].groupby('release_month').mean().reset_index().sort_values('release_month', ascending = True).plot(ax = ax1, kind = 'bar', x = 'release_month', y = 'worldwide_gross')\n",
    "ax1.set_xticklabels(month_dict.keys())\n",
    "plt.title('Whole Set Gross by Month', fontsize = 20)\n",
    "plt.xlabel('Month', fontsize = 15)\n",
    "plt.ylabel('Gross', fontsize = 15)\n",
    "\n",
    "ax2 = plt.subplot(3,2,2)\n",
    "topg = newdf[['release_month', 'worldwide_gross']].groupby('release_month').mean().reset_index().sort_values('release_month', ascending = True).plot(ax = ax2, kind = 'bar', x = 'release_month', y = 'worldwide_gross')\n",
    "ax2.set_xticklabels(month_dict.keys())\n",
    "plt.title('Top 500 Gross by Month', fontsize = 20)\n",
    "plt.xlabel('Month', fontsize = 15)\n",
    "plt.ylabel('Gross', fontsize = 15)\n",
    "\n",
    "ax3 = plt.subplot(3,2,3)\n",
    "wholep = df2[['release_month', 'profit_difference']].groupby('release_month').mean().reset_index().sort_values('release_month', ascending = True).plot(ax = ax3, kind = 'bar', x = 'release_month', y = 'profit_difference')\n",
    "ax3.set_xticklabels(month_dict.keys())\n",
    "plt.title('Whole Set Profit by Month', fontsize = 20)\n",
    "plt.xlabel('Month', fontsize = 15)\n",
    "plt.ylabel('Profit', fontsize = 15)\n",
    "\n",
    "ax4 = plt.subplot(3,2,4)\n",
    "topp = newdf[['release_month', 'profit_difference']].groupby('release_month').mean().reset_index().sort_values('release_month', ascending = True).plot(ax = ax4, kind = 'bar', x = 'release_month', y = 'profit_difference')\n",
    "ax4.set_xticklabels(month_dict.keys())\n",
    "plt.title('Top 500 Profit by Month', fontsize = 20)\n",
    "plt.xlabel('Month', fontsize = 15)\n",
    "plt.ylabel('Profit', fontsize = 15)\n",
    "\n",
    "ax5 = plt.subplot(3,2,5)\n",
    "wholepq = df2[['release_month', 'profit_quotient']].groupby('release_month').mean().reset_index().sort_values('release_month', ascending = True).plot(ax = ax5, kind = 'bar', x = 'release_month', y = 'profit_quotient')\n",
    "ax5.set_xticklabels(month_dict.keys())\n",
    "plt.title('Whole Set Profit Quotient by Month', fontsize = 20)\n",
    "plt.xlabel('Month', fontsize = 15)\n",
    "plt.ylabel('Profit Quotient', fontsize = 15)\n",
    "\n",
    "ax6 = plt.subplot(3,2,6)\n",
    "toppq = newdf[['release_month', 'profit_quotient']].groupby('release_month').mean().reset_index().sort_values('release_month', ascending = True).plot(ax = ax6, kind = 'bar', x = 'release_month', y = 'profit_quotient')\n",
    "ax6.set_xticklabels(month_dict.keys())\n",
    "plt.title('Top 500 Profit Quotient by Month', fontsize = 20)\n",
    "plt.xlabel('Month', fontsize = 15)\n",
    "plt.ylabel('Profit Quotient', fontsize = 15)\n",
    "\n"
   ]
  },
  {
   "cell_type": "markdown",
   "metadata": {},
   "source": [
    "The entire data set and Top 500 films gross and profit the most in the summer months of May, June, and July, and then again over the holiday season in November and December. Profit quotient is more evenly distributed by month than gross or profit among the entire data set implying that the increases in profit are closely proportionate to an increase in budget. Profit quotient for the Top 500 films resembles the entire set with the exceptions of a sharp increase in August and a decrease in June, July, November, and December, which implies again that the large increases in profit during those months is correlated to an increased budget as well."
   ]
  },
  {
   "cell_type": "markdown",
   "metadata": {},
   "source": [
    "## Kaggle File"
   ]
  },
  {
   "cell_type": "code",
   "execution_count": 34,
   "metadata": {},
   "outputs": [
    {
     "data": {
      "text/html": [
       "<div>\n",
       "<style scoped>\n",
       "    .dataframe tbody tr th:only-of-type {\n",
       "        vertical-align: middle;\n",
       "    }\n",
       "\n",
       "    .dataframe tbody tr th {\n",
       "        vertical-align: top;\n",
       "    }\n",
       "\n",
       "    .dataframe thead th {\n",
       "        text-align: right;\n",
       "    }\n",
       "</style>\n",
       "<table border=\"1\" class=\"dataframe\">\n",
       "  <thead>\n",
       "    <tr style=\"text-align: right;\">\n",
       "      <th></th>\n",
       "      <th>budget</th>\n",
       "      <th>company</th>\n",
       "      <th>country</th>\n",
       "      <th>director</th>\n",
       "      <th>genre</th>\n",
       "      <th>gross</th>\n",
       "      <th>name</th>\n",
       "      <th>rating</th>\n",
       "      <th>released</th>\n",
       "      <th>runtime</th>\n",
       "      <th>score</th>\n",
       "      <th>star</th>\n",
       "      <th>votes</th>\n",
       "      <th>writer</th>\n",
       "      <th>year</th>\n",
       "    </tr>\n",
       "  </thead>\n",
       "  <tbody>\n",
       "    <tr>\n",
       "      <th>0</th>\n",
       "      <td>8000000.0</td>\n",
       "      <td>Columbia Pictures Corporation</td>\n",
       "      <td>USA</td>\n",
       "      <td>Rob Reiner</td>\n",
       "      <td>Adventure</td>\n",
       "      <td>52287414.0</td>\n",
       "      <td>Stand by Me</td>\n",
       "      <td>R</td>\n",
       "      <td>1986-08-22</td>\n",
       "      <td>89</td>\n",
       "      <td>8.1</td>\n",
       "      <td>Wil Wheaton</td>\n",
       "      <td>299174</td>\n",
       "      <td>Stephen King</td>\n",
       "      <td>1986</td>\n",
       "    </tr>\n",
       "    <tr>\n",
       "      <th>1</th>\n",
       "      <td>6000000.0</td>\n",
       "      <td>Paramount Pictures</td>\n",
       "      <td>USA</td>\n",
       "      <td>John Hughes</td>\n",
       "      <td>Comedy</td>\n",
       "      <td>70136369.0</td>\n",
       "      <td>Ferris Bueller's Day Off</td>\n",
       "      <td>PG-13</td>\n",
       "      <td>1986-06-11</td>\n",
       "      <td>103</td>\n",
       "      <td>7.8</td>\n",
       "      <td>Matthew Broderick</td>\n",
       "      <td>264740</td>\n",
       "      <td>John Hughes</td>\n",
       "      <td>1986</td>\n",
       "    </tr>\n",
       "    <tr>\n",
       "      <th>2</th>\n",
       "      <td>15000000.0</td>\n",
       "      <td>Paramount Pictures</td>\n",
       "      <td>USA</td>\n",
       "      <td>Tony Scott</td>\n",
       "      <td>Action</td>\n",
       "      <td>179800601.0</td>\n",
       "      <td>Top Gun</td>\n",
       "      <td>PG</td>\n",
       "      <td>1986-05-16</td>\n",
       "      <td>110</td>\n",
       "      <td>6.9</td>\n",
       "      <td>Tom Cruise</td>\n",
       "      <td>236909</td>\n",
       "      <td>Jim Cash</td>\n",
       "      <td>1986</td>\n",
       "    </tr>\n",
       "    <tr>\n",
       "      <th>3</th>\n",
       "      <td>18500000.0</td>\n",
       "      <td>Twentieth Century Fox Film Corporation</td>\n",
       "      <td>USA</td>\n",
       "      <td>James Cameron</td>\n",
       "      <td>Action</td>\n",
       "      <td>85160248.0</td>\n",
       "      <td>Aliens</td>\n",
       "      <td>R</td>\n",
       "      <td>1986-07-18</td>\n",
       "      <td>137</td>\n",
       "      <td>8.4</td>\n",
       "      <td>Sigourney Weaver</td>\n",
       "      <td>540152</td>\n",
       "      <td>James Cameron</td>\n",
       "      <td>1986</td>\n",
       "    </tr>\n",
       "    <tr>\n",
       "      <th>4</th>\n",
       "      <td>9000000.0</td>\n",
       "      <td>Walt Disney Pictures</td>\n",
       "      <td>USA</td>\n",
       "      <td>Randal Kleiser</td>\n",
       "      <td>Adventure</td>\n",
       "      <td>18564613.0</td>\n",
       "      <td>Flight of the Navigator</td>\n",
       "      <td>PG</td>\n",
       "      <td>1986-08-01</td>\n",
       "      <td>90</td>\n",
       "      <td>6.9</td>\n",
       "      <td>Joey Cramer</td>\n",
       "      <td>36636</td>\n",
       "      <td>Mark H. Baker</td>\n",
       "      <td>1986</td>\n",
       "    </tr>\n",
       "  </tbody>\n",
       "</table>\n",
       "</div>"
      ],
      "text/plain": [
       "       budget                                 company country        director  \\\n",
       "0   8000000.0           Columbia Pictures Corporation     USA      Rob Reiner   \n",
       "1   6000000.0                      Paramount Pictures     USA     John Hughes   \n",
       "2  15000000.0                      Paramount Pictures     USA      Tony Scott   \n",
       "3  18500000.0  Twentieth Century Fox Film Corporation     USA   James Cameron   \n",
       "4   9000000.0                    Walt Disney Pictures     USA  Randal Kleiser   \n",
       "\n",
       "       genre        gross                      name rating    released  \\\n",
       "0  Adventure   52287414.0               Stand by Me      R  1986-08-22   \n",
       "1     Comedy   70136369.0  Ferris Bueller's Day Off  PG-13  1986-06-11   \n",
       "2     Action  179800601.0                   Top Gun     PG  1986-05-16   \n",
       "3     Action   85160248.0                    Aliens      R  1986-07-18   \n",
       "4  Adventure   18564613.0   Flight of the Navigator     PG  1986-08-01   \n",
       "\n",
       "   runtime  score               star   votes         writer  year  \n",
       "0       89    8.1        Wil Wheaton  299174   Stephen King  1986  \n",
       "1      103    7.8  Matthew Broderick  264740    John Hughes  1986  \n",
       "2      110    6.9         Tom Cruise  236909       Jim Cash  1986  \n",
       "3      137    8.4   Sigourney Weaver  540152  James Cameron  1986  \n",
       "4       90    6.9        Joey Cramer   36636  Mark H. Baker  1986  "
      ]
     },
     "execution_count": 34,
     "metadata": {},
     "output_type": "execute_result"
    }
   ],
   "source": [
    "# Import and preview downloaded Kaggle movie file\n",
    "\n",
    "kaggle_movies = 'zippedData/movies.csv'\n",
    "df3 = pd.read_csv(kaggle_movies, encoding = \"ISO-8859-1\")\n",
    "df3.head()"
   ]
  },
  {
   "cell_type": "code",
   "execution_count": 35,
   "metadata": {},
   "outputs": [
    {
     "name": "stdout",
     "output_type": "stream",
     "text": [
      "<class 'pandas.core.frame.DataFrame'>\n",
      "RangeIndex: 6820 entries, 0 to 6819\n",
      "Data columns (total 15 columns):\n",
      "budget      6820 non-null float64\n",
      "company     6820 non-null object\n",
      "country     6820 non-null object\n",
      "director    6820 non-null object\n",
      "genre       6820 non-null object\n",
      "gross       6820 non-null float64\n",
      "name        6820 non-null object\n",
      "rating      6820 non-null object\n",
      "released    6820 non-null object\n",
      "runtime     6820 non-null int64\n",
      "score       6820 non-null float64\n",
      "star        6820 non-null object\n",
      "votes       6820 non-null int64\n",
      "writer      6820 non-null object\n",
      "year        6820 non-null int64\n",
      "dtypes: float64(3), int64(3), object(9)\n",
      "memory usage: 799.3+ KB\n"
     ]
    }
   ],
   "source": [
    "# Preview file metadata\n",
    "\n",
    "df3.info()"
   ]
  },
  {
   "cell_type": "code",
   "execution_count": 36,
   "metadata": {},
   "outputs": [
    {
     "data": {
      "text/plain": [
       "0"
      ]
     },
     "execution_count": 36,
     "metadata": {},
     "output_type": "execute_result"
    }
   ],
   "source": [
    "# Preview null values for column to be used as groupby\n",
    "\n",
    "df3['gross'].isnull().sum()"
   ]
  },
  {
   "cell_type": "code",
   "execution_count": 37,
   "metadata": {},
   "outputs": [
    {
     "data": {
      "text/plain": [
       "0"
      ]
     },
     "execution_count": 37,
     "metadata": {},
     "output_type": "execute_result"
    }
   ],
   "source": [
    "# Preview null values for column to be operated on\n",
    "\n",
    "df3['budget'].isnull().sum()"
   ]
  },
  {
   "cell_type": "code",
   "execution_count": 38,
   "metadata": {},
   "outputs": [],
   "source": [
    "df3['profit'] = (df3['gross'] - df3['budget'])"
   ]
  },
  {
   "cell_type": "code",
   "execution_count": 39,
   "metadata": {},
   "outputs": [],
   "source": [
    "df3['profit_q'] = (df3['gross'] / df3['budget'])"
   ]
  },
  {
   "cell_type": "code",
   "execution_count": 40,
   "metadata": {},
   "outputs": [
    {
     "data": {
      "text/html": [
       "<div>\n",
       "<style scoped>\n",
       "    .dataframe tbody tr th:only-of-type {\n",
       "        vertical-align: middle;\n",
       "    }\n",
       "\n",
       "    .dataframe tbody tr th {\n",
       "        vertical-align: top;\n",
       "    }\n",
       "\n",
       "    .dataframe thead th {\n",
       "        text-align: right;\n",
       "    }\n",
       "</style>\n",
       "<table border=\"1\" class=\"dataframe\">\n",
       "  <thead>\n",
       "    <tr style=\"text-align: right;\">\n",
       "      <th></th>\n",
       "      <th>budget</th>\n",
       "      <th>company</th>\n",
       "      <th>country</th>\n",
       "      <th>director</th>\n",
       "      <th>genre</th>\n",
       "      <th>gross</th>\n",
       "      <th>name</th>\n",
       "      <th>rating</th>\n",
       "      <th>released</th>\n",
       "      <th>runtime</th>\n",
       "      <th>score</th>\n",
       "      <th>star</th>\n",
       "      <th>votes</th>\n",
       "      <th>writer</th>\n",
       "      <th>year</th>\n",
       "      <th>profit</th>\n",
       "      <th>profit_q</th>\n",
       "    </tr>\n",
       "  </thead>\n",
       "  <tbody>\n",
       "    <tr>\n",
       "      <th>0</th>\n",
       "      <td>8000000.0</td>\n",
       "      <td>Columbia Pictures Corporation</td>\n",
       "      <td>USA</td>\n",
       "      <td>Rob Reiner</td>\n",
       "      <td>Adventure</td>\n",
       "      <td>52287414.0</td>\n",
       "      <td>Stand by Me</td>\n",
       "      <td>R</td>\n",
       "      <td>1986-08-22</td>\n",
       "      <td>89</td>\n",
       "      <td>8.1</td>\n",
       "      <td>Wil Wheaton</td>\n",
       "      <td>299174</td>\n",
       "      <td>Stephen King</td>\n",
       "      <td>1986</td>\n",
       "      <td>44287414.0</td>\n",
       "      <td>6.535927</td>\n",
       "    </tr>\n",
       "    <tr>\n",
       "      <th>1</th>\n",
       "      <td>6000000.0</td>\n",
       "      <td>Paramount Pictures</td>\n",
       "      <td>USA</td>\n",
       "      <td>John Hughes</td>\n",
       "      <td>Comedy</td>\n",
       "      <td>70136369.0</td>\n",
       "      <td>Ferris Bueller's Day Off</td>\n",
       "      <td>PG-13</td>\n",
       "      <td>1986-06-11</td>\n",
       "      <td>103</td>\n",
       "      <td>7.8</td>\n",
       "      <td>Matthew Broderick</td>\n",
       "      <td>264740</td>\n",
       "      <td>John Hughes</td>\n",
       "      <td>1986</td>\n",
       "      <td>64136369.0</td>\n",
       "      <td>11.689395</td>\n",
       "    </tr>\n",
       "    <tr>\n",
       "      <th>2</th>\n",
       "      <td>15000000.0</td>\n",
       "      <td>Paramount Pictures</td>\n",
       "      <td>USA</td>\n",
       "      <td>Tony Scott</td>\n",
       "      <td>Action</td>\n",
       "      <td>179800601.0</td>\n",
       "      <td>Top Gun</td>\n",
       "      <td>PG</td>\n",
       "      <td>1986-05-16</td>\n",
       "      <td>110</td>\n",
       "      <td>6.9</td>\n",
       "      <td>Tom Cruise</td>\n",
       "      <td>236909</td>\n",
       "      <td>Jim Cash</td>\n",
       "      <td>1986</td>\n",
       "      <td>164800601.0</td>\n",
       "      <td>11.986707</td>\n",
       "    </tr>\n",
       "    <tr>\n",
       "      <th>3</th>\n",
       "      <td>18500000.0</td>\n",
       "      <td>Twentieth Century Fox Film Corporation</td>\n",
       "      <td>USA</td>\n",
       "      <td>James Cameron</td>\n",
       "      <td>Action</td>\n",
       "      <td>85160248.0</td>\n",
       "      <td>Aliens</td>\n",
       "      <td>R</td>\n",
       "      <td>1986-07-18</td>\n",
       "      <td>137</td>\n",
       "      <td>8.4</td>\n",
       "      <td>Sigourney Weaver</td>\n",
       "      <td>540152</td>\n",
       "      <td>James Cameron</td>\n",
       "      <td>1986</td>\n",
       "      <td>66660248.0</td>\n",
       "      <td>4.603257</td>\n",
       "    </tr>\n",
       "    <tr>\n",
       "      <th>4</th>\n",
       "      <td>9000000.0</td>\n",
       "      <td>Walt Disney Pictures</td>\n",
       "      <td>USA</td>\n",
       "      <td>Randal Kleiser</td>\n",
       "      <td>Adventure</td>\n",
       "      <td>18564613.0</td>\n",
       "      <td>Flight of the Navigator</td>\n",
       "      <td>PG</td>\n",
       "      <td>1986-08-01</td>\n",
       "      <td>90</td>\n",
       "      <td>6.9</td>\n",
       "      <td>Joey Cramer</td>\n",
       "      <td>36636</td>\n",
       "      <td>Mark H. Baker</td>\n",
       "      <td>1986</td>\n",
       "      <td>9564613.0</td>\n",
       "      <td>2.062735</td>\n",
       "    </tr>\n",
       "  </tbody>\n",
       "</table>\n",
       "</div>"
      ],
      "text/plain": [
       "       budget                                 company country        director  \\\n",
       "0   8000000.0           Columbia Pictures Corporation     USA      Rob Reiner   \n",
       "1   6000000.0                      Paramount Pictures     USA     John Hughes   \n",
       "2  15000000.0                      Paramount Pictures     USA      Tony Scott   \n",
       "3  18500000.0  Twentieth Century Fox Film Corporation     USA   James Cameron   \n",
       "4   9000000.0                    Walt Disney Pictures     USA  Randal Kleiser   \n",
       "\n",
       "       genre        gross                      name rating    released  \\\n",
       "0  Adventure   52287414.0               Stand by Me      R  1986-08-22   \n",
       "1     Comedy   70136369.0  Ferris Bueller's Day Off  PG-13  1986-06-11   \n",
       "2     Action  179800601.0                   Top Gun     PG  1986-05-16   \n",
       "3     Action   85160248.0                    Aliens      R  1986-07-18   \n",
       "4  Adventure   18564613.0   Flight of the Navigator     PG  1986-08-01   \n",
       "\n",
       "   runtime  score               star   votes         writer  year  \\\n",
       "0       89    8.1        Wil Wheaton  299174   Stephen King  1986   \n",
       "1      103    7.8  Matthew Broderick  264740    John Hughes  1986   \n",
       "2      110    6.9         Tom Cruise  236909       Jim Cash  1986   \n",
       "3      137    8.4   Sigourney Weaver  540152  James Cameron  1986   \n",
       "4       90    6.9        Joey Cramer   36636  Mark H. Baker  1986   \n",
       "\n",
       "        profit   profit_q  \n",
       "0   44287414.0   6.535927  \n",
       "1   64136369.0  11.689395  \n",
       "2  164800601.0  11.986707  \n",
       "3   66660248.0   4.603257  \n",
       "4    9564613.0   2.062735  "
      ]
     },
     "execution_count": 40,
     "metadata": {},
     "output_type": "execute_result"
    }
   ],
   "source": [
    "df3.head()"
   ]
  },
  {
   "cell_type": "code",
   "execution_count": 41,
   "metadata": {},
   "outputs": [
    {
     "data": {
      "text/html": [
       "<div>\n",
       "<style scoped>\n",
       "    .dataframe tbody tr th:only-of-type {\n",
       "        vertical-align: middle;\n",
       "    }\n",
       "\n",
       "    .dataframe tbody tr th {\n",
       "        vertical-align: top;\n",
       "    }\n",
       "\n",
       "    .dataframe thead th {\n",
       "        text-align: right;\n",
       "    }\n",
       "</style>\n",
       "<table border=\"1\" class=\"dataframe\">\n",
       "  <thead>\n",
       "    <tr style=\"text-align: right;\">\n",
       "      <th></th>\n",
       "      <th>budget</th>\n",
       "      <th>company</th>\n",
       "      <th>country</th>\n",
       "      <th>director</th>\n",
       "      <th>genre</th>\n",
       "      <th>gross</th>\n",
       "      <th>name</th>\n",
       "      <th>rating</th>\n",
       "      <th>released</th>\n",
       "      <th>runtime</th>\n",
       "      <th>score</th>\n",
       "      <th>star</th>\n",
       "      <th>votes</th>\n",
       "      <th>writer</th>\n",
       "      <th>year</th>\n",
       "      <th>profit</th>\n",
       "      <th>profit_q</th>\n",
       "    </tr>\n",
       "  </thead>\n",
       "  <tbody>\n",
       "    <tr>\n",
       "      <th>6380</th>\n",
       "      <td>245000000.0</td>\n",
       "      <td>Lucasfilm</td>\n",
       "      <td>USA</td>\n",
       "      <td>J.J. Abrams</td>\n",
       "      <td>Action</td>\n",
       "      <td>936662225.0</td>\n",
       "      <td>Star Wars: The Force Awakens</td>\n",
       "      <td>PG-13</td>\n",
       "      <td>2015-12-18</td>\n",
       "      <td>136</td>\n",
       "      <td>8.1</td>\n",
       "      <td>Daisy Ridley</td>\n",
       "      <td>687192</td>\n",
       "      <td>Lawrence Kasdan</td>\n",
       "      <td>2015</td>\n",
       "      <td>691662225.0</td>\n",
       "      <td>3.823111</td>\n",
       "    </tr>\n",
       "    <tr>\n",
       "      <th>5061</th>\n",
       "      <td>237000000.0</td>\n",
       "      <td>Twentieth Century Fox Film Corporation</td>\n",
       "      <td>UK</td>\n",
       "      <td>James Cameron</td>\n",
       "      <td>Action</td>\n",
       "      <td>760507625.0</td>\n",
       "      <td>Avatar</td>\n",
       "      <td>PG-13</td>\n",
       "      <td>2009-12-18</td>\n",
       "      <td>162</td>\n",
       "      <td>7.8</td>\n",
       "      <td>Sam Worthington</td>\n",
       "      <td>954412</td>\n",
       "      <td>James Cameron</td>\n",
       "      <td>2009</td>\n",
       "      <td>523507625.0</td>\n",
       "      <td>3.208893</td>\n",
       "    </tr>\n",
       "    <tr>\n",
       "      <th>2420</th>\n",
       "      <td>200000000.0</td>\n",
       "      <td>Twentieth Century Fox Film Corporation</td>\n",
       "      <td>USA</td>\n",
       "      <td>James Cameron</td>\n",
       "      <td>Drama</td>\n",
       "      <td>658672302.0</td>\n",
       "      <td>Titanic</td>\n",
       "      <td>PG-13</td>\n",
       "      <td>1997-12-19</td>\n",
       "      <td>194</td>\n",
       "      <td>7.8</td>\n",
       "      <td>Leonardo DiCaprio</td>\n",
       "      <td>862554</td>\n",
       "      <td>James Cameron</td>\n",
       "      <td>1997</td>\n",
       "      <td>458672302.0</td>\n",
       "      <td>3.293362</td>\n",
       "    </tr>\n",
       "    <tr>\n",
       "      <th>6391</th>\n",
       "      <td>150000000.0</td>\n",
       "      <td>Universal Pictures</td>\n",
       "      <td>USA</td>\n",
       "      <td>Colin Trevorrow</td>\n",
       "      <td>Action</td>\n",
       "      <td>652270625.0</td>\n",
       "      <td>Jurassic World</td>\n",
       "      <td>PG-13</td>\n",
       "      <td>2015-06-12</td>\n",
       "      <td>124</td>\n",
       "      <td>7.0</td>\n",
       "      <td>Chris Pratt</td>\n",
       "      <td>469200</td>\n",
       "      <td>Rick Jaffa</td>\n",
       "      <td>2015</td>\n",
       "      <td>502270625.0</td>\n",
       "      <td>4.348471</td>\n",
       "    </tr>\n",
       "    <tr>\n",
       "      <th>5723</th>\n",
       "      <td>220000000.0</td>\n",
       "      <td>Marvel Studios</td>\n",
       "      <td>USA</td>\n",
       "      <td>Joss Whedon</td>\n",
       "      <td>Action</td>\n",
       "      <td>623357910.0</td>\n",
       "      <td>The Avengers</td>\n",
       "      <td>PG-13</td>\n",
       "      <td>2012-05-04</td>\n",
       "      <td>143</td>\n",
       "      <td>8.1</td>\n",
       "      <td>Robert Downey Jr.</td>\n",
       "      <td>1064633</td>\n",
       "      <td>Joss Whedon</td>\n",
       "      <td>2012</td>\n",
       "      <td>403357910.0</td>\n",
       "      <td>2.833445</td>\n",
       "    </tr>\n",
       "  </tbody>\n",
       "</table>\n",
       "</div>"
      ],
      "text/plain": [
       "           budget                                 company country  \\\n",
       "6380  245000000.0                               Lucasfilm     USA   \n",
       "5061  237000000.0  Twentieth Century Fox Film Corporation      UK   \n",
       "2420  200000000.0  Twentieth Century Fox Film Corporation     USA   \n",
       "6391  150000000.0                      Universal Pictures     USA   \n",
       "5723  220000000.0                          Marvel Studios     USA   \n",
       "\n",
       "             director   genre        gross                          name  \\\n",
       "6380      J.J. Abrams  Action  936662225.0  Star Wars: The Force Awakens   \n",
       "5061    James Cameron  Action  760507625.0                        Avatar   \n",
       "2420    James Cameron   Drama  658672302.0                       Titanic   \n",
       "6391  Colin Trevorrow  Action  652270625.0                Jurassic World   \n",
       "5723      Joss Whedon  Action  623357910.0                  The Avengers   \n",
       "\n",
       "     rating    released  runtime  score               star    votes  \\\n",
       "6380  PG-13  2015-12-18      136    8.1       Daisy Ridley   687192   \n",
       "5061  PG-13  2009-12-18      162    7.8    Sam Worthington   954412   \n",
       "2420  PG-13  1997-12-19      194    7.8  Leonardo DiCaprio   862554   \n",
       "6391  PG-13  2015-06-12      124    7.0        Chris Pratt   469200   \n",
       "5723  PG-13  2012-05-04      143    8.1  Robert Downey Jr.  1064633   \n",
       "\n",
       "               writer  year       profit  profit_q  \n",
       "6380  Lawrence Kasdan  2015  691662225.0  3.823111  \n",
       "5061    James Cameron  2009  523507625.0  3.208893  \n",
       "2420    James Cameron  1997  458672302.0  3.293362  \n",
       "6391       Rick Jaffa  2015  502270625.0  4.348471  \n",
       "5723      Joss Whedon  2012  403357910.0  2.833445  "
      ]
     },
     "execution_count": 41,
     "metadata": {},
     "output_type": "execute_result"
    }
   ],
   "source": [
    "# Make list of top 500 entries by gross\n",
    "\n",
    "top_500 = df3.nlargest(500, 'gross')\n",
    "top_500.head()"
   ]
  },
  {
   "cell_type": "code",
   "execution_count": 42,
   "metadata": {},
   "outputs": [
    {
     "data": {
      "text/plain": [
       "3"
      ]
     },
     "execution_count": 42,
     "metadata": {},
     "output_type": "execute_result"
    }
   ],
   "source": [
    "# Check Top 500 list for 0 value entries that could skew data\n",
    "\n",
    "(top_500['budget'] == 0).sum()"
   ]
  },
  {
   "cell_type": "code",
   "execution_count": 43,
   "metadata": {},
   "outputs": [
    {
     "data": {
      "text/plain": [
       "0"
      ]
     },
     "execution_count": 43,
     "metadata": {},
     "output_type": "execute_result"
    }
   ],
   "source": [
    "# Check Top 500 list for 0 value entries that could skew data\n",
    "\n",
    "(top_500['gross'] == 0).sum()"
   ]
  },
  {
   "cell_type": "code",
   "execution_count": 44,
   "metadata": {},
   "outputs": [],
   "source": [
    "# Drop rows with 0 value entered as budget\n",
    "\n",
    "top_500.drop(top_500[top_500['budget'] < 1].index, inplace = True)"
   ]
  },
  {
   "cell_type": "code",
   "execution_count": 45,
   "metadata": {},
   "outputs": [
    {
     "data": {
      "text/plain": [
       "0"
      ]
     },
     "execution_count": 45,
     "metadata": {},
     "output_type": "execute_result"
    }
   ],
   "source": [
    "# Check work\n",
    "\n",
    "(top_500['budget'] == 0).sum()"
   ]
  },
  {
   "cell_type": "code",
   "execution_count": 46,
   "metadata": {},
   "outputs": [],
   "source": [
    "# Create profit column\n",
    "\n",
    "top_500['profit'] = (top_500['gross'] - top_500['budget'])"
   ]
  },
  {
   "cell_type": "code",
   "execution_count": 47,
   "metadata": {},
   "outputs": [],
   "source": [
    "# Create profit quotient column\n",
    "\n",
    "top_500['profit_q'] = (top_500['gross'] / top_500['budget'])"
   ]
  },
  {
   "cell_type": "code",
   "execution_count": 48,
   "metadata": {},
   "outputs": [
    {
     "data": {
      "text/html": [
       "<div>\n",
       "<style scoped>\n",
       "    .dataframe tbody tr th:only-of-type {\n",
       "        vertical-align: middle;\n",
       "    }\n",
       "\n",
       "    .dataframe tbody tr th {\n",
       "        vertical-align: top;\n",
       "    }\n",
       "\n",
       "    .dataframe thead th {\n",
       "        text-align: right;\n",
       "    }\n",
       "</style>\n",
       "<table border=\"1\" class=\"dataframe\">\n",
       "  <thead>\n",
       "    <tr style=\"text-align: right;\">\n",
       "      <th></th>\n",
       "      <th>budget</th>\n",
       "      <th>company</th>\n",
       "      <th>country</th>\n",
       "      <th>director</th>\n",
       "      <th>genre</th>\n",
       "      <th>gross</th>\n",
       "      <th>name</th>\n",
       "      <th>rating</th>\n",
       "      <th>released</th>\n",
       "      <th>runtime</th>\n",
       "      <th>score</th>\n",
       "      <th>star</th>\n",
       "      <th>votes</th>\n",
       "      <th>writer</th>\n",
       "      <th>year</th>\n",
       "      <th>profit</th>\n",
       "      <th>profit_q</th>\n",
       "    </tr>\n",
       "  </thead>\n",
       "  <tbody>\n",
       "    <tr>\n",
       "      <th>6380</th>\n",
       "      <td>245000000.0</td>\n",
       "      <td>Lucasfilm</td>\n",
       "      <td>USA</td>\n",
       "      <td>J.J. Abrams</td>\n",
       "      <td>Action</td>\n",
       "      <td>936662225.0</td>\n",
       "      <td>Star Wars: The Force Awakens</td>\n",
       "      <td>PG-13</td>\n",
       "      <td>2015-12-18</td>\n",
       "      <td>136</td>\n",
       "      <td>8.1</td>\n",
       "      <td>Daisy Ridley</td>\n",
       "      <td>687192</td>\n",
       "      <td>Lawrence Kasdan</td>\n",
       "      <td>2015</td>\n",
       "      <td>691662225.0</td>\n",
       "      <td>3.823111</td>\n",
       "    </tr>\n",
       "    <tr>\n",
       "      <th>5061</th>\n",
       "      <td>237000000.0</td>\n",
       "      <td>Twentieth Century Fox Film Corporation</td>\n",
       "      <td>UK</td>\n",
       "      <td>James Cameron</td>\n",
       "      <td>Action</td>\n",
       "      <td>760507625.0</td>\n",
       "      <td>Avatar</td>\n",
       "      <td>PG-13</td>\n",
       "      <td>2009-12-18</td>\n",
       "      <td>162</td>\n",
       "      <td>7.8</td>\n",
       "      <td>Sam Worthington</td>\n",
       "      <td>954412</td>\n",
       "      <td>James Cameron</td>\n",
       "      <td>2009</td>\n",
       "      <td>523507625.0</td>\n",
       "      <td>3.208893</td>\n",
       "    </tr>\n",
       "    <tr>\n",
       "      <th>2420</th>\n",
       "      <td>200000000.0</td>\n",
       "      <td>Twentieth Century Fox Film Corporation</td>\n",
       "      <td>USA</td>\n",
       "      <td>James Cameron</td>\n",
       "      <td>Drama</td>\n",
       "      <td>658672302.0</td>\n",
       "      <td>Titanic</td>\n",
       "      <td>PG-13</td>\n",
       "      <td>1997-12-19</td>\n",
       "      <td>194</td>\n",
       "      <td>7.8</td>\n",
       "      <td>Leonardo DiCaprio</td>\n",
       "      <td>862554</td>\n",
       "      <td>James Cameron</td>\n",
       "      <td>1997</td>\n",
       "      <td>458672302.0</td>\n",
       "      <td>3.293362</td>\n",
       "    </tr>\n",
       "    <tr>\n",
       "      <th>6391</th>\n",
       "      <td>150000000.0</td>\n",
       "      <td>Universal Pictures</td>\n",
       "      <td>USA</td>\n",
       "      <td>Colin Trevorrow</td>\n",
       "      <td>Action</td>\n",
       "      <td>652270625.0</td>\n",
       "      <td>Jurassic World</td>\n",
       "      <td>PG-13</td>\n",
       "      <td>2015-06-12</td>\n",
       "      <td>124</td>\n",
       "      <td>7.0</td>\n",
       "      <td>Chris Pratt</td>\n",
       "      <td>469200</td>\n",
       "      <td>Rick Jaffa</td>\n",
       "      <td>2015</td>\n",
       "      <td>502270625.0</td>\n",
       "      <td>4.348471</td>\n",
       "    </tr>\n",
       "    <tr>\n",
       "      <th>5723</th>\n",
       "      <td>220000000.0</td>\n",
       "      <td>Marvel Studios</td>\n",
       "      <td>USA</td>\n",
       "      <td>Joss Whedon</td>\n",
       "      <td>Action</td>\n",
       "      <td>623357910.0</td>\n",
       "      <td>The Avengers</td>\n",
       "      <td>PG-13</td>\n",
       "      <td>2012-05-04</td>\n",
       "      <td>143</td>\n",
       "      <td>8.1</td>\n",
       "      <td>Robert Downey Jr.</td>\n",
       "      <td>1064633</td>\n",
       "      <td>Joss Whedon</td>\n",
       "      <td>2012</td>\n",
       "      <td>403357910.0</td>\n",
       "      <td>2.833445</td>\n",
       "    </tr>\n",
       "  </tbody>\n",
       "</table>\n",
       "</div>"
      ],
      "text/plain": [
       "           budget                                 company country  \\\n",
       "6380  245000000.0                               Lucasfilm     USA   \n",
       "5061  237000000.0  Twentieth Century Fox Film Corporation      UK   \n",
       "2420  200000000.0  Twentieth Century Fox Film Corporation     USA   \n",
       "6391  150000000.0                      Universal Pictures     USA   \n",
       "5723  220000000.0                          Marvel Studios     USA   \n",
       "\n",
       "             director   genre        gross                          name  \\\n",
       "6380      J.J. Abrams  Action  936662225.0  Star Wars: The Force Awakens   \n",
       "5061    James Cameron  Action  760507625.0                        Avatar   \n",
       "2420    James Cameron   Drama  658672302.0                       Titanic   \n",
       "6391  Colin Trevorrow  Action  652270625.0                Jurassic World   \n",
       "5723      Joss Whedon  Action  623357910.0                  The Avengers   \n",
       "\n",
       "     rating    released  runtime  score               star    votes  \\\n",
       "6380  PG-13  2015-12-18      136    8.1       Daisy Ridley   687192   \n",
       "5061  PG-13  2009-12-18      162    7.8    Sam Worthington   954412   \n",
       "2420  PG-13  1997-12-19      194    7.8  Leonardo DiCaprio   862554   \n",
       "6391  PG-13  2015-06-12      124    7.0        Chris Pratt   469200   \n",
       "5723  PG-13  2012-05-04      143    8.1  Robert Downey Jr.  1064633   \n",
       "\n",
       "               writer  year       profit  profit_q  \n",
       "6380  Lawrence Kasdan  2015  691662225.0  3.823111  \n",
       "5061    James Cameron  2009  523507625.0  3.208893  \n",
       "2420    James Cameron  1997  458672302.0  3.293362  \n",
       "6391       Rick Jaffa  2015  502270625.0  4.348471  \n",
       "5723      Joss Whedon  2012  403357910.0  2.833445  "
      ]
     },
     "execution_count": 48,
     "metadata": {},
     "output_type": "execute_result"
    }
   ],
   "source": [
    "# Preview new columns\n",
    "\n",
    "top_500.head()"
   ]
  },
  {
   "cell_type": "code",
   "execution_count": 49,
   "metadata": {},
   "outputs": [
    {
     "data": {
      "text/plain": [
       "94"
      ]
     },
     "execution_count": 49,
     "metadata": {},
     "output_type": "execute_result"
    }
   ],
   "source": [
    "# Investigate runtime\n",
    "\n",
    "top_500['runtime'].nunique()"
   ]
  },
  {
   "cell_type": "code",
   "execution_count": 50,
   "metadata": {},
   "outputs": [
    {
     "data": {
      "text/html": [
       "<div>\n",
       "<style scoped>\n",
       "    .dataframe tbody tr th:only-of-type {\n",
       "        vertical-align: middle;\n",
       "    }\n",
       "\n",
       "    .dataframe tbody tr th {\n",
       "        vertical-align: top;\n",
       "    }\n",
       "\n",
       "    .dataframe thead th {\n",
       "        text-align: right;\n",
       "    }\n",
       "</style>\n",
       "<table border=\"1\" class=\"dataframe\">\n",
       "  <thead>\n",
       "    <tr style=\"text-align: right;\">\n",
       "      <th></th>\n",
       "      <th>budget</th>\n",
       "      <th>company</th>\n",
       "      <th>country</th>\n",
       "      <th>director</th>\n",
       "      <th>genre</th>\n",
       "      <th>gross</th>\n",
       "      <th>name</th>\n",
       "      <th>rating</th>\n",
       "      <th>released</th>\n",
       "      <th>runtime</th>\n",
       "      <th>score</th>\n",
       "      <th>star</th>\n",
       "      <th>votes</th>\n",
       "      <th>writer</th>\n",
       "      <th>year</th>\n",
       "      <th>profit</th>\n",
       "      <th>profit_q</th>\n",
       "    </tr>\n",
       "  </thead>\n",
       "  <tbody>\n",
       "    <tr>\n",
       "      <th>2885</th>\n",
       "      <td>60000.0</td>\n",
       "      <td>Haxan Films</td>\n",
       "      <td>USA</td>\n",
       "      <td>Daniel Myrick</td>\n",
       "      <td>Horror</td>\n",
       "      <td>140539099.0</td>\n",
       "      <td>The Blair Witch Project</td>\n",
       "      <td>R</td>\n",
       "      <td>1999-07-30</td>\n",
       "      <td>81</td>\n",
       "      <td>6.4</td>\n",
       "      <td>Heather Donahue</td>\n",
       "      <td>202691</td>\n",
       "      <td>Daniel Myrick</td>\n",
       "      <td>1999</td>\n",
       "      <td>140479099.0</td>\n",
       "      <td>2342.318317</td>\n",
       "    </tr>\n",
       "    <tr>\n",
       "      <th>3554</th>\n",
       "      <td>5000000.0</td>\n",
       "      <td>Gold Circle Films</td>\n",
       "      <td>Canada</td>\n",
       "      <td>Joel Zwick</td>\n",
       "      <td>Comedy</td>\n",
       "      <td>241438208.0</td>\n",
       "      <td>Casarse... está en griego</td>\n",
       "      <td>PG</td>\n",
       "      <td>2002-08-02</td>\n",
       "      <td>95</td>\n",
       "      <td>6.6</td>\n",
       "      <td>Nia Vardalos</td>\n",
       "      <td>107984</td>\n",
       "      <td>Nia Vardalos</td>\n",
       "      <td>2002</td>\n",
       "      <td>236438208.0</td>\n",
       "      <td>48.287642</td>\n",
       "    </tr>\n",
       "    <tr>\n",
       "      <th>5</th>\n",
       "      <td>6000000.0</td>\n",
       "      <td>Hemdale</td>\n",
       "      <td>UK</td>\n",
       "      <td>Oliver Stone</td>\n",
       "      <td>Drama</td>\n",
       "      <td>138530565.0</td>\n",
       "      <td>Platoon</td>\n",
       "      <td>R</td>\n",
       "      <td>1987-02-06</td>\n",
       "      <td>120</td>\n",
       "      <td>8.1</td>\n",
       "      <td>Charlie Sheen</td>\n",
       "      <td>317585</td>\n",
       "      <td>Oliver Stone</td>\n",
       "      <td>1986</td>\n",
       "      <td>132530565.0</td>\n",
       "      <td>23.088428</td>\n",
       "    </tr>\n",
       "    <tr>\n",
       "      <th>10</th>\n",
       "      <td>8800000.0</td>\n",
       "      <td>Rimfire Films</td>\n",
       "      <td>Australia</td>\n",
       "      <td>Peter Faiman</td>\n",
       "      <td>Adventure</td>\n",
       "      <td>174635000.0</td>\n",
       "      <td>Crocodile Dundee</td>\n",
       "      <td>PG-13</td>\n",
       "      <td>1986-09-26</td>\n",
       "      <td>97</td>\n",
       "      <td>6.5</td>\n",
       "      <td>Paul Hogan</td>\n",
       "      <td>79465</td>\n",
       "      <td>Ken Shadie</td>\n",
       "      <td>1986</td>\n",
       "      <td>165835000.0</td>\n",
       "      <td>19.844886</td>\n",
       "    </tr>\n",
       "    <tr>\n",
       "      <th>4643</th>\n",
       "      <td>7500000.0</td>\n",
       "      <td>Fox Searchlight Pictures</td>\n",
       "      <td>USA</td>\n",
       "      <td>Jason Reitman</td>\n",
       "      <td>Comedy</td>\n",
       "      <td>143495265.0</td>\n",
       "      <td>Juno</td>\n",
       "      <td>PG-13</td>\n",
       "      <td>2007-12-25</td>\n",
       "      <td>96</td>\n",
       "      <td>7.5</td>\n",
       "      <td>Ellen Page</td>\n",
       "      <td>439421</td>\n",
       "      <td>Diablo Cody</td>\n",
       "      <td>2007</td>\n",
       "      <td>135995265.0</td>\n",
       "      <td>19.132702</td>\n",
       "    </tr>\n",
       "  </tbody>\n",
       "</table>\n",
       "</div>"
      ],
      "text/plain": [
       "         budget                   company    country       director  \\\n",
       "2885    60000.0               Haxan Films        USA  Daniel Myrick   \n",
       "3554  5000000.0         Gold Circle Films     Canada     Joel Zwick   \n",
       "5     6000000.0                   Hemdale         UK   Oliver Stone   \n",
       "10    8800000.0             Rimfire Films  Australia   Peter Faiman   \n",
       "4643  7500000.0  Fox Searchlight Pictures        USA  Jason Reitman   \n",
       "\n",
       "          genre        gross                       name rating    released  \\\n",
       "2885     Horror  140539099.0    The Blair Witch Project      R  1999-07-30   \n",
       "3554     Comedy  241438208.0  Casarse... está en griego     PG  2002-08-02   \n",
       "5         Drama  138530565.0                    Platoon      R  1987-02-06   \n",
       "10    Adventure  174635000.0           Crocodile Dundee  PG-13  1986-09-26   \n",
       "4643     Comedy  143495265.0                       Juno  PG-13  2007-12-25   \n",
       "\n",
       "      runtime  score             star   votes         writer  year  \\\n",
       "2885       81    6.4  Heather Donahue  202691  Daniel Myrick  1999   \n",
       "3554       95    6.6     Nia Vardalos  107984   Nia Vardalos  2002   \n",
       "5         120    8.1    Charlie Sheen  317585   Oliver Stone  1986   \n",
       "10         97    6.5       Paul Hogan   79465     Ken Shadie  1986   \n",
       "4643       96    7.5       Ellen Page  439421    Diablo Cody  2007   \n",
       "\n",
       "           profit     profit_q  \n",
       "2885  140479099.0  2342.318317  \n",
       "3554  236438208.0    48.287642  \n",
       "5     132530565.0    23.088428  \n",
       "10    165835000.0    19.844886  \n",
       "4643  135995265.0    19.132702  "
      ]
     },
     "execution_count": 50,
     "metadata": {},
     "output_type": "execute_result"
    }
   ],
   "source": [
    "# Sort top 500 films by profit quotient \n",
    "\n",
    "sortedpq = top_500.sort_values(['profit_q'], ascending = False)\n",
    "sortedpq.head()"
   ]
  },
  {
   "cell_type": "code",
   "execution_count": 51,
   "metadata": {},
   "outputs": [
    {
     "data": {
      "text/html": [
       "<div>\n",
       "<style scoped>\n",
       "    .dataframe tbody tr th:only-of-type {\n",
       "        vertical-align: middle;\n",
       "    }\n",
       "\n",
       "    .dataframe tbody tr th {\n",
       "        vertical-align: top;\n",
       "    }\n",
       "\n",
       "    .dataframe thead th {\n",
       "        text-align: right;\n",
       "    }\n",
       "</style>\n",
       "<table border=\"1\" class=\"dataframe\">\n",
       "  <thead>\n",
       "    <tr style=\"text-align: right;\">\n",
       "      <th></th>\n",
       "      <th>budget</th>\n",
       "      <th>company</th>\n",
       "      <th>country</th>\n",
       "      <th>director</th>\n",
       "      <th>genre</th>\n",
       "      <th>gross</th>\n",
       "      <th>name</th>\n",
       "      <th>rating</th>\n",
       "      <th>released</th>\n",
       "      <th>runtime</th>\n",
       "      <th>score</th>\n",
       "      <th>star</th>\n",
       "      <th>votes</th>\n",
       "      <th>writer</th>\n",
       "      <th>year</th>\n",
       "      <th>profit</th>\n",
       "      <th>profit_q</th>\n",
       "    </tr>\n",
       "  </thead>\n",
       "  <tbody>\n",
       "    <tr>\n",
       "      <th>3554</th>\n",
       "      <td>5000000.0</td>\n",
       "      <td>Gold Circle Films</td>\n",
       "      <td>Canada</td>\n",
       "      <td>Joel Zwick</td>\n",
       "      <td>Comedy</td>\n",
       "      <td>241438208.0</td>\n",
       "      <td>Casarse... está en griego</td>\n",
       "      <td>PG</td>\n",
       "      <td>2002-08-02</td>\n",
       "      <td>95</td>\n",
       "      <td>6.6</td>\n",
       "      <td>Nia Vardalos</td>\n",
       "      <td>107984</td>\n",
       "      <td>Nia Vardalos</td>\n",
       "      <td>2002</td>\n",
       "      <td>236438208.0</td>\n",
       "      <td>48.287642</td>\n",
       "    </tr>\n",
       "    <tr>\n",
       "      <th>5</th>\n",
       "      <td>6000000.0</td>\n",
       "      <td>Hemdale</td>\n",
       "      <td>UK</td>\n",
       "      <td>Oliver Stone</td>\n",
       "      <td>Drama</td>\n",
       "      <td>138530565.0</td>\n",
       "      <td>Platoon</td>\n",
       "      <td>R</td>\n",
       "      <td>1987-02-06</td>\n",
       "      <td>120</td>\n",
       "      <td>8.1</td>\n",
       "      <td>Charlie Sheen</td>\n",
       "      <td>317585</td>\n",
       "      <td>Oliver Stone</td>\n",
       "      <td>1986</td>\n",
       "      <td>132530565.0</td>\n",
       "      <td>23.088428</td>\n",
       "    </tr>\n",
       "    <tr>\n",
       "      <th>10</th>\n",
       "      <td>8800000.0</td>\n",
       "      <td>Rimfire Films</td>\n",
       "      <td>Australia</td>\n",
       "      <td>Peter Faiman</td>\n",
       "      <td>Adventure</td>\n",
       "      <td>174635000.0</td>\n",
       "      <td>Crocodile Dundee</td>\n",
       "      <td>PG-13</td>\n",
       "      <td>1986-09-26</td>\n",
       "      <td>97</td>\n",
       "      <td>6.5</td>\n",
       "      <td>Paul Hogan</td>\n",
       "      <td>79465</td>\n",
       "      <td>Ken Shadie</td>\n",
       "      <td>1986</td>\n",
       "      <td>165835000.0</td>\n",
       "      <td>19.844886</td>\n",
       "    </tr>\n",
       "    <tr>\n",
       "      <th>4643</th>\n",
       "      <td>7500000.0</td>\n",
       "      <td>Fox Searchlight Pictures</td>\n",
       "      <td>USA</td>\n",
       "      <td>Jason Reitman</td>\n",
       "      <td>Comedy</td>\n",
       "      <td>143495265.0</td>\n",
       "      <td>Juno</td>\n",
       "      <td>PG-13</td>\n",
       "      <td>2007-12-25</td>\n",
       "      <td>96</td>\n",
       "      <td>7.5</td>\n",
       "      <td>Ellen Page</td>\n",
       "      <td>439421</td>\n",
       "      <td>Diablo Cody</td>\n",
       "      <td>2007</td>\n",
       "      <td>135995265.0</td>\n",
       "      <td>19.132702</td>\n",
       "    </tr>\n",
       "    <tr>\n",
       "      <th>680</th>\n",
       "      <td>7500000.0</td>\n",
       "      <td>TriStar Pictures</td>\n",
       "      <td>USA</td>\n",
       "      <td>Amy Heckerling</td>\n",
       "      <td>Comedy</td>\n",
       "      <td>140088813.0</td>\n",
       "      <td>Look Who's Talking</td>\n",
       "      <td>PG-13</td>\n",
       "      <td>1989-10-13</td>\n",
       "      <td>93</td>\n",
       "      <td>5.8</td>\n",
       "      <td>John Travolta</td>\n",
       "      <td>67535</td>\n",
       "      <td>Amy Heckerling</td>\n",
       "      <td>1989</td>\n",
       "      <td>132588813.0</td>\n",
       "      <td>18.678508</td>\n",
       "    </tr>\n",
       "  </tbody>\n",
       "</table>\n",
       "</div>"
      ],
      "text/plain": [
       "         budget                   company    country        director  \\\n",
       "3554  5000000.0         Gold Circle Films     Canada      Joel Zwick   \n",
       "5     6000000.0                   Hemdale         UK    Oliver Stone   \n",
       "10    8800000.0             Rimfire Films  Australia    Peter Faiman   \n",
       "4643  7500000.0  Fox Searchlight Pictures        USA   Jason Reitman   \n",
       "680   7500000.0          TriStar Pictures        USA  Amy Heckerling   \n",
       "\n",
       "          genre        gross                       name rating    released  \\\n",
       "3554     Comedy  241438208.0  Casarse... está en griego     PG  2002-08-02   \n",
       "5         Drama  138530565.0                    Platoon      R  1987-02-06   \n",
       "10    Adventure  174635000.0           Crocodile Dundee  PG-13  1986-09-26   \n",
       "4643     Comedy  143495265.0                       Juno  PG-13  2007-12-25   \n",
       "680      Comedy  140088813.0         Look Who's Talking  PG-13  1989-10-13   \n",
       "\n",
       "      runtime  score           star   votes          writer  year  \\\n",
       "3554       95    6.6   Nia Vardalos  107984    Nia Vardalos  2002   \n",
       "5         120    8.1  Charlie Sheen  317585    Oliver Stone  1986   \n",
       "10         97    6.5     Paul Hogan   79465      Ken Shadie  1986   \n",
       "4643       96    7.5     Ellen Page  439421     Diablo Cody  2007   \n",
       "680        93    5.8  John Travolta   67535  Amy Heckerling  1989   \n",
       "\n",
       "           profit   profit_q  \n",
       "3554  236438208.0  48.287642  \n",
       "5     132530565.0  23.088428  \n",
       "10    165835000.0  19.844886  \n",
       "4643  135995265.0  19.132702  \n",
       "680   132588813.0  18.678508  "
      ]
     },
     "execution_count": 51,
     "metadata": {},
     "output_type": "execute_result"
    }
   ],
   "source": [
    "# Remove single outlier \n",
    "\n",
    "newdf = sortedpq.drop(sortedpq.index[0])\n",
    "\n",
    "# Preview change\n",
    "\n",
    "newdf.head()"
   ]
  },
  {
   "cell_type": "markdown",
   "metadata": {},
   "source": [
    "### Kaggle Plots"
   ]
  },
  {
   "cell_type": "markdown",
   "metadata": {},
   "source": [
    "### Question 4: What rating returns the highest profits?"
   ]
  },
  {
   "cell_type": "code",
   "execution_count": 52,
   "metadata": {},
   "outputs": [
    {
     "data": {
      "text/plain": [
       "Text(0, 0.5, 'Profit Quotient')"
      ]
     },
     "execution_count": 52,
     "metadata": {},
     "output_type": "execute_result"
    },
    {
     "data": {
      "image/png": "[encoded data removed]",
      "text/plain": [
       "<Figure size 864x360 with 2 Axes>"
      ]
     },
     "metadata": {},
     "output_type": "display_data"
    }
   ],
   "source": [
    "# Plot profit and profit quotient by rating \n",
    "\n",
    "fig = plt.figure(figsize = (12,5))\n",
    "ax1 = plt.subplot(1,2,1)\n",
    "profit = newdf[['rating', 'profit']].groupby('rating').mean().reset_index().sort_values('rating', ascending = True).plot(ax = ax1, kind = 'bar', x = 'rating', y = 'profit')\n",
    "plt.title('Rating Profit', fontsize = 20)\n",
    "plt.xlabel('Rating', fontsize = 15)\n",
    "plt.ylabel('Profit', fontsize = 15)\n",
    "\n",
    "ax2 = plt.subplot(1,2,2)\n",
    "profitq = newdf[['rating', 'profit_q']].groupby('rating').mean().reset_index().sort_values('rating', ascending = True).plot(ax =ax2, kind = 'bar', x = 'rating', y = 'profit_q')\n",
    "plt.title('Rating Profit Quotient', fontsize = 20)\n",
    "plt.xlabel('Rating', fontsize = 15)\n",
    "plt.ylabel('Profit Quotient', fontsize = 15)"
   ]
  },
  {
   "cell_type": "markdown",
   "metadata": {},
   "source": [
    "Profit is nearly equally distributed among ratings but R rated films have an average 25% higher profit quotient. "
   ]
  },
  {
   "cell_type": "markdown",
   "metadata": {},
   "source": [
    "### Question 5: What genre returns the highest profits?"
   ]
  },
  {
   "cell_type": "code",
   "execution_count": 53,
   "metadata": {},
   "outputs": [
    {
     "data": {
      "text/plain": [
       "Text(0, 0.5, 'Profit Quotient')"
      ]
     },
     "execution_count": 53,
     "metadata": {},
     "output_type": "execute_result"
    },
    {
     "data": {
      "image/png": "[encoded data removed]",
      "text/plain": [
       "<Figure size 1008x360 with 2 Axes>"
      ]
     },
     "metadata": {},
     "output_type": "display_data"
    }
   ],
   "source": [
    "# Plot profit and profit quotient by genre together\n",
    "\n",
    "fig = plt.figure(figsize = (14,5))\n",
    "ax1 = plt.subplot(1,2,1)\n",
    "genrep = newdf[['genre', 'profit']].groupby('genre').mean().reset_index().sort_values('genre', ascending = True).plot(ax = ax1, kind = 'bar', x = 'genre', y = 'profit')\n",
    "plt.title('Profit by Genre', fontsize = 20)\n",
    "plt.xlabel('Genre', fontsize = 15)\n",
    "plt.ylabel('Profit', fontsize = 15)\n",
    "\n",
    "ax2 = plt.subplot(1,2,2)\n",
    "genrepq = newdf[['genre', 'profit_q']].groupby('genre').mean().reset_index().sort_values('genre', ascending = True).plot(ax = ax2, kind = 'bar', x = 'genre', y = 'profit_q')\n",
    "plt.title('Profit Quotient by Genre', fontsize = 20)\n",
    "plt.xlabel('Genre', fontsize = 15)\n",
    "plt.ylabel('Profit Quotient', fontsize = 15)\n"
   ]
  },
  {
   "cell_type": "markdown",
   "metadata": {},
   "source": [
    "Drama, adventure, and horror share the top profits among genres. Horror has a very strong lead in profit quotients."
   ]
  },
  {
   "cell_type": "markdown",
   "metadata": {},
   "source": [
    "### Question 6: Does runtime have any correlation with profit?"
   ]
  },
  {
   "cell_type": "code",
   "execution_count": 54,
   "metadata": {},
   "outputs": [
    {
     "data": {
      "text/plain": [
       "Text(0, 0.5, 'Profit Quotient')"
      ]
     },
     "execution_count": 54,
     "metadata": {},
     "output_type": "execute_result"
    },
    {
     "data": {
      "image/png": "[encoded data removed]",
      "text/plain": [
       "<Figure size 1008x360 with 2 Axes>"
      ]
     },
     "metadata": {},
     "output_type": "display_data"
    }
   ],
   "source": [
    "# Plot profit and profit quotient by runtime\n",
    "\n",
    "fig = plt.figure(figsize = (14,5))\n",
    "ax1 = plt.subplot(1,2,1)\n",
    "sns.set_style('darkgrid')\n",
    "sns.regplot(ax = ax1, x = 'runtime', y = 'profit', data = newdf, scatter_kws = {'color': 'b'}, line_kws = {'color':'red'})\n",
    "plt.title('Profit and Runtime Regression', fontsize = 20)\n",
    "plt.xlabel('Runtime', fontsize = 15)\n",
    "plt.ylabel('Profit', fontsize = 15)\n",
    "\n",
    "ax2 = plt.subplot(1,2,2)\n",
    "sns.set_style('darkgrid')\n",
    "sns.regplot(ax = ax2, x = 'runtime', y = 'profit_q', data = newdf, scatter_kws = {'color': 'b'}, line_kws = {'color':'red'})\n",
    "plt.title('Profit Quotient and Runtime Regression', fontsize = 20)\n",
    "plt.xlabel('Runtime', fontsize = 15)\n",
    "plt.ylabel('Profit Quotient', fontsize = 15)"
   ]
  },
  {
   "cell_type": "markdown",
   "metadata": {},
   "source": [
    "There is no correlation between profit or profit quotient and movie runtimes."
   ]
  }
 ],
 "metadata": {
  "kernelspec": {
   "display_name": "Python 3",
   "language": "python",
   "name": "python3"
  },
  "language_info": {
   "codemirror_mode": {
    "name": "ipython",
    "version": 3
   },
   "file_extension": ".py",
   "mimetype": "text/x-python",
   "name": "python",
   "nbconvert_exporter": "python",
   "pygments_lexer": "ipython3",
   "version": "3.6.6"
  },
  "toc": {
   "base_numbering": 1,
   "nav_menu": {},
   "number_sections": true,
   "sideBar": true,
   "skip_h1_title": false,
   "title_cell": "Table of Contents",
   "title_sidebar": "Contents",
   "toc_cell": false,
   "toc_position": {
    "height": "calc(100% - 180px)",
    "left": "10px",
    "top": "150px",
    "width": "254.594px"
   },
   "toc_section_display": true,
   "toc_window_display": true
  }
 },
 "nbformat": 4,
 "nbformat_minor": 2
}
