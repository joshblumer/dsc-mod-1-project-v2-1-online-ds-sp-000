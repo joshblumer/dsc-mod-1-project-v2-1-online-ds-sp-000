{
 "cells": [
  {
   "cell_type": "markdown",
   "metadata": {},
   "source": [
    "<a name=\"budget\"></a>\n",
    "### Evaluating Gross and Profit Against Budget\n",
    "\n",
    "![wholeset](https://raw.githubusercontent.com/joshblumer/dsc-mod-1-project-v2-1-online-ds-sp-000/master/Images/Whole%20Set.png)\n",
    "![top500p](https://raw.githubusercontent.com/joshblumer/dsc-mod-1-project-v2-1-online-ds-sp-000/master/Images/Top500P.png)\n",
    "![top500pq](https://raw.githubusercontent.com/joshblumer/dsc-mod-1-project-v2-1-online-ds-sp-000/master/Images/Top500PQ.png)\n",
    "\n",
    "#### The primary benchmark of this analysis is comparing multiple variables to the levels of correlation between a film budget and its gross, profit, and profit quotient. There is a moderately strong correlation (0.75) between the entire data sets budget and gross meaning that if a studio has the capital to invest into a particular film the gross will usually increase as the budget increases. The entire data sets profit has a slightly weaker correlation (0.61) with the budget, but it is still positive so generally as a studio invests more they will also profit more. A surprising insight extrapolated from the data is that the top 500 highest grossing films in the set had weaker correlations between budget/gross (0.67) and budget/profit (0.51). This means that even though these films were the highest grossing, they had a weaker return on investment than the set as a whole. As expected the top 500 films by profit quotient had a very strong correlation with budget/gross (0.92) and budget/profit (0.91) meaning that as these films budgets increase their gross and profit increases in nearly direct proportion. After filtering these films with a high profit quotient their variables can be further analyzed for trends that a studio can follow to maximize their ROI."
   ]
  },
  {
   "cell_type": "markdown",
   "metadata": {},
   "source": [
    "<a name=\"month\"></a>\n",
    "### Gross and Profit by Release Month\n",
    "![month1](https://raw.githubusercontent.com/joshblumer/dsc-mod-1-project-v2-1-online-ds-sp-000/master/Images/Month1.png)\n",
    "![month2](https://raw.githubusercontent.com/joshblumer/dsc-mod-1-project-v2-1-online-ds-sp-000/master/Images/Month2.png)\n",
    "\n",
    "#### The entire data set and Top 500 films gross and profit the most in the summer months of May, June, and July, and then again over the holiday season in November and December. Profit quotient is more evenly distributed by month than gross or profit among the entire data set implying that the increases in profit are closely proportionate to an increase in budget. Profit quotient for the Top 500 films resembles the entire set with the exceptions of a sharp increase in August and a decrease in June, July, November, and December, which implies again that the large increases in profit during those months is correlated to an increased budget as well.\n"
   ]
  },
  {
   "cell_type": "markdown",
   "metadata": {},
   "source": [
    "<a name=\"rgr\"></a>\n",
    "### Profit and Profit Quotient by Rating, Genre, and Runtime \n",
    "![rating](https://raw.githubusercontent.com/joshblumer/dsc-mod-1-project-v2-1-online-ds-sp-000/master/Images/Rating.png)\n",
    "\n",
    "#### Profit is nearly equally distributed among ratings but R rated films have an average 25% higher profit quotient.\n",
    "\n",
    "![genre](https://github.com/joshblumer/dsc-mod-1-project-v2-1-online-ds-sp-000/blob/master/Images/Genre.png)\n",
    "\n",
    "#### Drama, adventure, and horror share the top profits among genres. Horror has a very strong lead in profit quotients.\n",
    "\n",
    "![runtime](https://raw.githubusercontent.com/joshblumer/dsc-mod-1-project-v2-1-online-ds-sp-000/master/Images/Runtime.png)\n",
    "\n",
    "#### There is no correlation between profit or profit quotient and movie runtimes."
   ]
  },
  {
   "cell_type": "markdown",
   "metadata": {},
   "source": [
    "<a name=\"studio\"></a>\n",
    "### Studios by Gross\n",
    "![studio](https://raw.githubusercontent.com/joshblumer/dsc-mod-1-project-v2-1-online-ds-sp-000/master/Images/Studio.png)\n",
    "\n",
    "#### Buena Vista, a subsidiary of Disney, total grosses more than double the next entry, Warner Brothers, but only grosses slightly more than the next few entries per film. Finding the top performing studios is a valuable insight for choosing who to collaborate with, where to look when acquiring talent, and whose films to further analyze."
   ]
  }
 ],
 "metadata": {
  "kernelspec": {
   "display_name": "Python [conda env:learn-env] *",
   "language": "python",
   "name": "conda-env-learn-env-py"
  },
  "language_info": {
   "codemirror_mode": {
    "name": "ipython",
    "version": 3
   },
   "file_extension": ".py",
   "mimetype": "text/x-python",
   "name": "python",
   "nbconvert_exporter": "python",
   "pygments_lexer": "ipython3",
   "version": "3.6.6"
  },
  "toc": {
   "base_numbering": 1,
   "nav_menu": {},
   "number_sections": true,
   "sideBar": true,
   "skip_h1_title": false,
   "title_cell": "Table of Contents",
   "title_sidebar": "Contents",
   "toc_cell": false,
   "toc_position": {},
   "toc_section_display": true,
   "toc_window_display": false
  }
 },
 "nbformat": 4,
 "nbformat_minor": 2
}
