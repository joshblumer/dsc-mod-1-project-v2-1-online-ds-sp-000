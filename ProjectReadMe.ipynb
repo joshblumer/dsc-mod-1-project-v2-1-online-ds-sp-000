{
 "cells": [
  {
   "cell_type": "markdown",
   "metadata": {},
   "source": [
    "# Module 1 Final Project\n",
    "\n",
    "Film Industry Data Analysis"
   ]
  },
  {
   "cell_type": "markdown",
   "metadata": {},
   "source": [
    "## Introduction\n",
    "\n",
    "   * An exploratory data analysis of the film industry through databases provided by The Flatiron School and found at [kaggle.com](https://www.kaggle.com). My goal in this analysis is to extract meaningful insights from the data and manipulate them into actionable recommendations using statistical methods and visualizations. "
   ]
  },
  {
   "cell_type": "markdown",
   "metadata": {},
   "source": [
    "## Technologies\n",
    "* The Jupyter Notebook \"student.ipynb\" found in this repo was created using Python 3.7.6\n",
    "\n",
    "\n",
    "* Necessary libraries to reproduce and run this project are:\n",
    " * Pandas\n",
    " * NumPy\n",
    " * MatPlotLib\n",
    " * Seaborn\n"
   ]
  },
  {
   "cell_type": "markdown",
   "metadata": {},
   "source": [
    "## Methodology\n",
    "\n",
    "After exploring and analyzing the given data sets I chose to focus on an approach that measured films box office success by calculating film profit (subtracting film budget from film gross) and film profit quotient (dividing film budget from film gross). Once I obtained film profit and profit quotient I compared them to several other variables such as genre, rating, and release month that a studio chooses when producing a film. My hypothesis is that by filtering variables through profit correlation a studio will maximize the return on investment of its films. "
   ]
  },
  {
   "cell_type": "markdown",
   "metadata": {},
   "source": [
    "## Table of Contents\n",
    "\n",
    "* [Studios by Gross](#studio)\n",
    "* [Evaluating Gross and Profit Against Budget](#budget)\n",
    "* [Gross and Profit by Release Month](#month)\n",
    "* [Profit and Profit Quotient by Rating, Genre, and Runtime](#rgr)"
   ]
  },
  {
   "cell_type": "markdown",
   "metadata": {},
   "source": [
    "<a name=\"studio\"></a>\n",
    "### Studios by Gross"
   ]
  },
  {
   "cell_type": "markdown",
   "metadata": {},
   "source": [
    "<a name=\"budget\"></a>\n",
    "### Evaluating Gross and Profit Against Budget"
   ]
  },
  {
   "cell_type": "markdown",
   "metadata": {},
   "source": [
    "<a name=\"month\"></a>\n",
    "### Gross and Profit by Release Month"
   ]
  },
  {
   "cell_type": "markdown",
   "metadata": {},
   "source": [
    "<a name=\"rgr\"></a>\n",
    "### Profit and Profit Quotient by Rating, Genre, and Runtime"
   ]
  },
  {
   "cell_type": "markdown",
   "metadata": {},
   "source": [
    "## Conclusions"
   ]
  },
  {
   "cell_type": "code",
   "execution_count": null,
   "metadata": {},
   "outputs": [],
   "source": []
  }
 ],
 "metadata": {
  "kernelspec": {
   "display_name": "Python [conda env:learn-env] *",
   "language": "python",
   "name": "conda-env-learn-env-py"
  },
  "language_info": {
   "codemirror_mode": {
    "name": "ipython",
    "version": 3
   },
   "file_extension": ".py",
   "mimetype": "text/x-python",
   "name": "python",
   "nbconvert_exporter": "python",
   "pygments_lexer": "ipython3",
   "version": "3.6.6"
  },
  "toc": {
   "base_numbering": 1,
   "nav_menu": {},
   "number_sections": false,
   "sideBar": true,
   "skip_h1_title": false,
   "title_cell": "Table of Contents",
   "title_sidebar": "Contents",
   "toc_cell": false,
   "toc_position": {
    "height": "calc(100% - 180px)",
    "left": "10px",
    "top": "150px",
    "width": "256px"
   },
   "toc_section_display": true,
   "toc_window_display": false
  }
 },
 "nbformat": 4,
 "nbformat_minor": 2
}
